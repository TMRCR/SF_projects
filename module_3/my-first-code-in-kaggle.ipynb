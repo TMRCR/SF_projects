{
 "cells": [
  {
   "cell_type": "markdown",
   "metadata": {},
   "source": [
    "# import"
   ]
  },
  {
   "cell_type": "code",
   "execution_count": 1,
   "metadata": {
    "_cell_guid": "b1076dfc-b9ad-4769-8c92-a6c4dae69d19",
    "_uuid": "8f2839f25d086af736a60e9eeb907d3b93b6e0e5",
    "execution": {
     "iopub.execute_input": "2021-08-11T18:01:08.570599Z",
     "iopub.status.busy": "2021-08-11T18:01:08.57015Z",
     "iopub.status.idle": "2021-08-11T18:01:08.583548Z",
     "shell.execute_reply": "2021-08-11T18:01:08.582758Z",
     "shell.execute_reply.started": "2021-08-11T18:01:08.570558Z"
    }
   },
   "outputs": [
    {
     "name": "stdout",
     "output_type": "stream",
     "text": [
      "/kaggle/input/sf-dst-restaurant-rating/sample_submission.csv\n",
      "/kaggle/input/sf-dst-restaurant-rating/main_task.csv\n",
      "/kaggle/input/sf-dst-restaurant-rating/kaggle_task.csv\n"
     ]
    }
   ],
   "source": [
    "# This Python 3 environment comes with many helpful analytics libraries installed\n",
    "# It is defined by the kaggle/python docker image: https://github.com/kaggle/docker-python\n",
    "# For example, here's several helpful packages to load in \n",
    "\n",
    "import numpy as np # linear algebra\n",
    "import pandas as pd # data processing, CSV file I/O (e.g. pd.read_csv)\n",
    "\n",
    "import matplotlib.pyplot as plt\n",
    "import seaborn as sns \n",
    "%matplotlib inline\n",
    "\n",
    "# Загружаем специальный удобный инструмент для разделения датасета:\n",
    "from sklearn.model_selection import train_test_split\n",
    "\n",
    "# Input data files are available in the \"../input/\" directory.\n",
    "# For example, running this (by clicking run or pressing Shift+Enter) will list all files under the input directory\n",
    "\n",
    "import os\n",
    "for dirname, _, filenames in os.walk('/kaggle/input'):\n",
    "    for filename in filenames:\n",
    "        print(os.path.join(dirname, filename))\n",
    "\n",
    "# Any results you write to the current directory are saved as output."
   ]
  },
  {
   "cell_type": "code",
   "execution_count": 2,
   "metadata": {
    "execution": {
     "iopub.execute_input": "2021-08-11T18:01:08.585991Z",
     "iopub.status.busy": "2021-08-11T18:01:08.585554Z",
     "iopub.status.idle": "2021-08-11T18:01:08.592713Z",
     "shell.execute_reply": "2021-08-11T18:01:08.591675Z",
     "shell.execute_reply.started": "2021-08-11T18:01:08.58581Z"
    }
   },
   "outputs": [],
   "source": [
    "# всегда фиксируйте RANDOM_SEED, чтобы ваши эксперименты были воспроизводимы!\n",
    "RANDOM_SEED = 42"
   ]
  },
  {
   "cell_type": "code",
   "execution_count": 3,
   "metadata": {
    "execution": {
     "iopub.execute_input": "2021-08-11T18:01:08.7003Z",
     "iopub.status.busy": "2021-08-11T18:01:08.699948Z",
     "iopub.status.idle": "2021-08-11T18:01:11.134244Z",
     "shell.execute_reply": "2021-08-11T18:01:11.132893Z",
     "shell.execute_reply.started": "2021-08-11T18:01:08.700243Z"
    }
   },
   "outputs": [],
   "source": [
    "# зафиксируем версию пакетов, чтобы эксперименты были воспроизводимы:\n",
    "!pip freeze > requirements.txt"
   ]
  },
  {
   "cell_type": "markdown",
   "metadata": {},
   "source": [
    "# DATA"
   ]
  },
  {
   "cell_type": "code",
   "execution_count": 4,
   "metadata": {
    "_cell_guid": "79c7e3d0-c299-4dcb-8224-4455121ee9b0",
    "_uuid": "d629ff2d2480ee46fbb7e2d37f6b5fab8052498a",
    "execution": {
     "iopub.execute_input": "2021-08-11T18:01:11.136803Z",
     "iopub.status.busy": "2021-08-11T18:01:11.136515Z",
     "iopub.status.idle": "2021-08-11T18:01:11.426325Z",
     "shell.execute_reply": "2021-08-11T18:01:11.425175Z",
     "shell.execute_reply.started": "2021-08-11T18:01:11.136761Z"
    }
   },
   "outputs": [],
   "source": [
    "DATA_DIR = '/kaggle/input/sf-dst-restaurant-rating/'\n",
    "df_train = pd.read_csv(DATA_DIR+'/main_task.csv')\n",
    "df_test = pd.read_csv(DATA_DIR+'kaggle_task.csv')\n",
    "sample_submission = pd.read_csv(DATA_DIR+'/sample_submission.csv')"
   ]
  },
  {
   "cell_type": "code",
   "execution_count": 5,
   "metadata": {
    "execution": {
     "iopub.execute_input": "2021-08-11T18:01:11.427984Z",
     "iopub.status.busy": "2021-08-11T18:01:11.427727Z",
     "iopub.status.idle": "2021-08-11T18:01:11.466356Z",
     "shell.execute_reply": "2021-08-11T18:01:11.465213Z",
     "shell.execute_reply.started": "2021-08-11T18:01:11.427949Z"
    }
   },
   "outputs": [
    {
     "name": "stdout",
     "output_type": "stream",
     "text": [
      "<class 'pandas.core.frame.DataFrame'>\n",
      "RangeIndex: 40000 entries, 0 to 39999\n",
      "Data columns (total 10 columns):\n",
      "Restaurant_id        40000 non-null object\n",
      "City                 40000 non-null object\n",
      "Cuisine Style        30717 non-null object\n",
      "Ranking              40000 non-null float64\n",
      "Rating               40000 non-null float64\n",
      "Price Range          26114 non-null object\n",
      "Number of Reviews    37457 non-null float64\n",
      "Reviews              40000 non-null object\n",
      "URL_TA               40000 non-null object\n",
      "ID_TA                40000 non-null object\n",
      "dtypes: float64(3), object(7)\n",
      "memory usage: 3.1+ MB\n"
     ]
    }
   ],
   "source": [
    "df_train.info()"
   ]
  },
  {
   "cell_type": "code",
   "execution_count": 6,
   "metadata": {
    "execution": {
     "iopub.execute_input": "2021-08-11T18:01:11.467938Z",
     "iopub.status.busy": "2021-08-11T18:01:11.467625Z",
     "iopub.status.idle": "2021-08-11T18:01:11.487243Z",
     "shell.execute_reply": "2021-08-11T18:01:11.486339Z",
     "shell.execute_reply.started": "2021-08-11T18:01:11.467863Z"
    }
   },
   "outputs": [
    {
     "data": {
      "text/html": [
       "<div>\n",
       "<style scoped>\n",
       "    .dataframe tbody tr th:only-of-type {\n",
       "        vertical-align: middle;\n",
       "    }\n",
       "\n",
       "    .dataframe tbody tr th {\n",
       "        vertical-align: top;\n",
       "    }\n",
       "\n",
       "    .dataframe thead th {\n",
       "        text-align: right;\n",
       "    }\n",
       "</style>\n",
       "<table border=\"1\" class=\"dataframe\">\n",
       "  <thead>\n",
       "    <tr style=\"text-align: right;\">\n",
       "      <th></th>\n",
       "      <th>Restaurant_id</th>\n",
       "      <th>City</th>\n",
       "      <th>Cuisine Style</th>\n",
       "      <th>Ranking</th>\n",
       "      <th>Rating</th>\n",
       "      <th>Price Range</th>\n",
       "      <th>Number of Reviews</th>\n",
       "      <th>Reviews</th>\n",
       "      <th>URL_TA</th>\n",
       "      <th>ID_TA</th>\n",
       "    </tr>\n",
       "  </thead>\n",
       "  <tbody>\n",
       "    <tr>\n",
       "      <th>0</th>\n",
       "      <td>id_5569</td>\n",
       "      <td>Paris</td>\n",
       "      <td>['European', 'French', 'International']</td>\n",
       "      <td>5570.0</td>\n",
       "      <td>3.5</td>\n",
       "      <td>$$ - $$$</td>\n",
       "      <td>194.0</td>\n",
       "      <td>[['Good food at your doorstep', 'A good hotel ...</td>\n",
       "      <td>/Restaurant_Review-g187147-d1912643-Reviews-R_...</td>\n",
       "      <td>d1912643</td>\n",
       "    </tr>\n",
       "    <tr>\n",
       "      <th>1</th>\n",
       "      <td>id_1535</td>\n",
       "      <td>Stockholm</td>\n",
       "      <td>NaN</td>\n",
       "      <td>1537.0</td>\n",
       "      <td>4.0</td>\n",
       "      <td>NaN</td>\n",
       "      <td>10.0</td>\n",
       "      <td>[['Unique cuisine', 'Delicious Nepalese food']...</td>\n",
       "      <td>/Restaurant_Review-g189852-d7992032-Reviews-Bu...</td>\n",
       "      <td>d7992032</td>\n",
       "    </tr>\n",
       "    <tr>\n",
       "      <th>2</th>\n",
       "      <td>id_352</td>\n",
       "      <td>London</td>\n",
       "      <td>['Japanese', 'Sushi', 'Asian', 'Grill', 'Veget...</td>\n",
       "      <td>353.0</td>\n",
       "      <td>4.5</td>\n",
       "      <td>$$$$</td>\n",
       "      <td>688.0</td>\n",
       "      <td>[['Catch up with friends', 'Not exceptional'],...</td>\n",
       "      <td>/Restaurant_Review-g186338-d8632781-Reviews-RO...</td>\n",
       "      <td>d8632781</td>\n",
       "    </tr>\n",
       "    <tr>\n",
       "      <th>3</th>\n",
       "      <td>id_3456</td>\n",
       "      <td>Berlin</td>\n",
       "      <td>NaN</td>\n",
       "      <td>3458.0</td>\n",
       "      <td>5.0</td>\n",
       "      <td>NaN</td>\n",
       "      <td>3.0</td>\n",
       "      <td>[[], []]</td>\n",
       "      <td>/Restaurant_Review-g187323-d1358776-Reviews-Es...</td>\n",
       "      <td>d1358776</td>\n",
       "    </tr>\n",
       "    <tr>\n",
       "      <th>4</th>\n",
       "      <td>id_615</td>\n",
       "      <td>Munich</td>\n",
       "      <td>['German', 'Central European', 'Vegetarian Fri...</td>\n",
       "      <td>621.0</td>\n",
       "      <td>4.0</td>\n",
       "      <td>$$ - $$$</td>\n",
       "      <td>84.0</td>\n",
       "      <td>[['Best place to try a Bavarian food', 'Nice b...</td>\n",
       "      <td>/Restaurant_Review-g187309-d6864963-Reviews-Au...</td>\n",
       "      <td>d6864963</td>\n",
       "    </tr>\n",
       "  </tbody>\n",
       "</table>\n",
       "</div>"
      ],
      "text/plain": [
       "  Restaurant_id       City                                      Cuisine Style  \\\n",
       "0       id_5569      Paris            ['European', 'French', 'International']   \n",
       "1       id_1535  Stockholm                                                NaN   \n",
       "2        id_352     London  ['Japanese', 'Sushi', 'Asian', 'Grill', 'Veget...   \n",
       "3       id_3456     Berlin                                                NaN   \n",
       "4        id_615     Munich  ['German', 'Central European', 'Vegetarian Fri...   \n",
       "\n",
       "   Ranking  Rating Price Range  Number of Reviews  \\\n",
       "0   5570.0     3.5    $$ - $$$              194.0   \n",
       "1   1537.0     4.0         NaN               10.0   \n",
       "2    353.0     4.5        $$$$              688.0   \n",
       "3   3458.0     5.0         NaN                3.0   \n",
       "4    621.0     4.0    $$ - $$$               84.0   \n",
       "\n",
       "                                             Reviews  \\\n",
       "0  [['Good food at your doorstep', 'A good hotel ...   \n",
       "1  [['Unique cuisine', 'Delicious Nepalese food']...   \n",
       "2  [['Catch up with friends', 'Not exceptional'],...   \n",
       "3                                           [[], []]   \n",
       "4  [['Best place to try a Bavarian food', 'Nice b...   \n",
       "\n",
       "                                              URL_TA     ID_TA  \n",
       "0  /Restaurant_Review-g187147-d1912643-Reviews-R_...  d1912643  \n",
       "1  /Restaurant_Review-g189852-d7992032-Reviews-Bu...  d7992032  \n",
       "2  /Restaurant_Review-g186338-d8632781-Reviews-RO...  d8632781  \n",
       "3  /Restaurant_Review-g187323-d1358776-Reviews-Es...  d1358776  \n",
       "4  /Restaurant_Review-g187309-d6864963-Reviews-Au...  d6864963  "
      ]
     },
     "execution_count": 6,
     "metadata": {},
     "output_type": "execute_result"
    }
   ],
   "source": [
    "df_train.head(5)"
   ]
  },
  {
   "cell_type": "code",
   "execution_count": 7,
   "metadata": {
    "execution": {
     "iopub.execute_input": "2021-08-11T18:01:11.4894Z",
     "iopub.status.busy": "2021-08-11T18:01:11.489078Z",
     "iopub.status.idle": "2021-08-11T18:01:11.512179Z",
     "shell.execute_reply": "2021-08-11T18:01:11.510929Z",
     "shell.execute_reply.started": "2021-08-11T18:01:11.489338Z"
    }
   },
   "outputs": [
    {
     "name": "stdout",
     "output_type": "stream",
     "text": [
      "<class 'pandas.core.frame.DataFrame'>\n",
      "RangeIndex: 10000 entries, 0 to 9999\n",
      "Data columns (total 9 columns):\n",
      "Restaurant_id        10000 non-null object\n",
      "City                 10000 non-null object\n",
      "Cuisine Style        7693 non-null object\n",
      "Ranking              10000 non-null float64\n",
      "Price Range          6525 non-null object\n",
      "Number of Reviews    9343 non-null float64\n",
      "Reviews              9998 non-null object\n",
      "URL_TA               10000 non-null object\n",
      "ID_TA                10000 non-null object\n",
      "dtypes: float64(2), object(7)\n",
      "memory usage: 703.2+ KB\n"
     ]
    }
   ],
   "source": [
    "df_test.info()"
   ]
  },
  {
   "cell_type": "code",
   "execution_count": 8,
   "metadata": {
    "execution": {
     "iopub.execute_input": "2021-08-11T18:01:11.515Z",
     "iopub.status.busy": "2021-08-11T18:01:11.514621Z",
     "iopub.status.idle": "2021-08-11T18:01:11.534735Z",
     "shell.execute_reply": "2021-08-11T18:01:11.53351Z",
     "shell.execute_reply.started": "2021-08-11T18:01:11.51493Z"
    }
   },
   "outputs": [
    {
     "data": {
      "text/html": [
       "<div>\n",
       "<style scoped>\n",
       "    .dataframe tbody tr th:only-of-type {\n",
       "        vertical-align: middle;\n",
       "    }\n",
       "\n",
       "    .dataframe tbody tr th {\n",
       "        vertical-align: top;\n",
       "    }\n",
       "\n",
       "    .dataframe thead th {\n",
       "        text-align: right;\n",
       "    }\n",
       "</style>\n",
       "<table border=\"1\" class=\"dataframe\">\n",
       "  <thead>\n",
       "    <tr style=\"text-align: right;\">\n",
       "      <th></th>\n",
       "      <th>Restaurant_id</th>\n",
       "      <th>City</th>\n",
       "      <th>Cuisine Style</th>\n",
       "      <th>Ranking</th>\n",
       "      <th>Price Range</th>\n",
       "      <th>Number of Reviews</th>\n",
       "      <th>Reviews</th>\n",
       "      <th>URL_TA</th>\n",
       "      <th>ID_TA</th>\n",
       "    </tr>\n",
       "  </thead>\n",
       "  <tbody>\n",
       "    <tr>\n",
       "      <th>0</th>\n",
       "      <td>id_0</td>\n",
       "      <td>Paris</td>\n",
       "      <td>['Bar', 'Pub']</td>\n",
       "      <td>12963.0</td>\n",
       "      <td>$$ - $$$</td>\n",
       "      <td>4.0</td>\n",
       "      <td>[[], []]</td>\n",
       "      <td>/Restaurant_Review-g187147-d10746918-Reviews-L...</td>\n",
       "      <td>d10746918</td>\n",
       "    </tr>\n",
       "    <tr>\n",
       "      <th>1</th>\n",
       "      <td>id_1</td>\n",
       "      <td>Helsinki</td>\n",
       "      <td>['European', 'Scandinavian', 'Gluten Free Opti...</td>\n",
       "      <td>106.0</td>\n",
       "      <td>$$ - $$$</td>\n",
       "      <td>97.0</td>\n",
       "      <td>[['Very good reviews!', 'Fine dining in Hakani...</td>\n",
       "      <td>/Restaurant_Review-g189934-d6674944-Reviews-Ra...</td>\n",
       "      <td>d6674944</td>\n",
       "    </tr>\n",
       "    <tr>\n",
       "      <th>2</th>\n",
       "      <td>id_2</td>\n",
       "      <td>Edinburgh</td>\n",
       "      <td>['Vegetarian Friendly']</td>\n",
       "      <td>810.0</td>\n",
       "      <td>$$ - $$$</td>\n",
       "      <td>28.0</td>\n",
       "      <td>[['Better than the Links', 'Ivy Black'], ['12/...</td>\n",
       "      <td>/Restaurant_Review-g186525-d13129638-Reviews-B...</td>\n",
       "      <td>d13129638</td>\n",
       "    </tr>\n",
       "    <tr>\n",
       "      <th>3</th>\n",
       "      <td>id_3</td>\n",
       "      <td>London</td>\n",
       "      <td>['Italian', 'Mediterranean', 'European', 'Vege...</td>\n",
       "      <td>1669.0</td>\n",
       "      <td>$$$$</td>\n",
       "      <td>202.0</td>\n",
       "      <td>[['Most exquisite', 'Delicious and authentic']...</td>\n",
       "      <td>/Restaurant_Review-g186338-d680417-Reviews-Qui...</td>\n",
       "      <td>d680417</td>\n",
       "    </tr>\n",
       "    <tr>\n",
       "      <th>4</th>\n",
       "      <td>id_4</td>\n",
       "      <td>Bratislava</td>\n",
       "      <td>['Italian', 'Mediterranean', 'European', 'Seaf...</td>\n",
       "      <td>37.0</td>\n",
       "      <td>$$$$</td>\n",
       "      <td>162.0</td>\n",
       "      <td>[['Always the best in bratislava', 'Very good ...</td>\n",
       "      <td>/Restaurant_Review-g274924-d1112354-Reviews-Ma...</td>\n",
       "      <td>d1112354</td>\n",
       "    </tr>\n",
       "  </tbody>\n",
       "</table>\n",
       "</div>"
      ],
      "text/plain": [
       "  Restaurant_id        City  \\\n",
       "0          id_0       Paris   \n",
       "1          id_1    Helsinki   \n",
       "2          id_2   Edinburgh   \n",
       "3          id_3      London   \n",
       "4          id_4  Bratislava   \n",
       "\n",
       "                                       Cuisine Style  Ranking Price Range  \\\n",
       "0                                     ['Bar', 'Pub']  12963.0    $$ - $$$   \n",
       "1  ['European', 'Scandinavian', 'Gluten Free Opti...    106.0    $$ - $$$   \n",
       "2                            ['Vegetarian Friendly']    810.0    $$ - $$$   \n",
       "3  ['Italian', 'Mediterranean', 'European', 'Vege...   1669.0        $$$$   \n",
       "4  ['Italian', 'Mediterranean', 'European', 'Seaf...     37.0        $$$$   \n",
       "\n",
       "   Number of Reviews                                            Reviews  \\\n",
       "0                4.0                                           [[], []]   \n",
       "1               97.0  [['Very good reviews!', 'Fine dining in Hakani...   \n",
       "2               28.0  [['Better than the Links', 'Ivy Black'], ['12/...   \n",
       "3              202.0  [['Most exquisite', 'Delicious and authentic']...   \n",
       "4              162.0  [['Always the best in bratislava', 'Very good ...   \n",
       "\n",
       "                                              URL_TA      ID_TA  \n",
       "0  /Restaurant_Review-g187147-d10746918-Reviews-L...  d10746918  \n",
       "1  /Restaurant_Review-g189934-d6674944-Reviews-Ra...   d6674944  \n",
       "2  /Restaurant_Review-g186525-d13129638-Reviews-B...  d13129638  \n",
       "3  /Restaurant_Review-g186338-d680417-Reviews-Qui...    d680417  \n",
       "4  /Restaurant_Review-g274924-d1112354-Reviews-Ma...   d1112354  "
      ]
     },
     "execution_count": 8,
     "metadata": {},
     "output_type": "execute_result"
    }
   ],
   "source": [
    "df_test.head(5)"
   ]
  },
  {
   "cell_type": "code",
   "execution_count": 9,
   "metadata": {
    "execution": {
     "iopub.execute_input": "2021-08-11T18:01:11.537465Z",
     "iopub.status.busy": "2021-08-11T18:01:11.536816Z",
     "iopub.status.idle": "2021-08-11T18:01:11.55053Z",
     "shell.execute_reply": "2021-08-11T18:01:11.549524Z",
     "shell.execute_reply.started": "2021-08-11T18:01:11.53739Z"
    }
   },
   "outputs": [
    {
     "data": {
      "text/html": [
       "<div>\n",
       "<style scoped>\n",
       "    .dataframe tbody tr th:only-of-type {\n",
       "        vertical-align: middle;\n",
       "    }\n",
       "\n",
       "    .dataframe tbody tr th {\n",
       "        vertical-align: top;\n",
       "    }\n",
       "\n",
       "    .dataframe thead th {\n",
       "        text-align: right;\n",
       "    }\n",
       "</style>\n",
       "<table border=\"1\" class=\"dataframe\">\n",
       "  <thead>\n",
       "    <tr style=\"text-align: right;\">\n",
       "      <th></th>\n",
       "      <th>Restaurant_id</th>\n",
       "      <th>Rating</th>\n",
       "    </tr>\n",
       "  </thead>\n",
       "  <tbody>\n",
       "    <tr>\n",
       "      <th>0</th>\n",
       "      <td>id_0</td>\n",
       "      <td>2.0</td>\n",
       "    </tr>\n",
       "    <tr>\n",
       "      <th>1</th>\n",
       "      <td>id_1</td>\n",
       "      <td>2.5</td>\n",
       "    </tr>\n",
       "    <tr>\n",
       "      <th>2</th>\n",
       "      <td>id_2</td>\n",
       "      <td>4.0</td>\n",
       "    </tr>\n",
       "    <tr>\n",
       "      <th>3</th>\n",
       "      <td>id_3</td>\n",
       "      <td>1.0</td>\n",
       "    </tr>\n",
       "    <tr>\n",
       "      <th>4</th>\n",
       "      <td>id_4</td>\n",
       "      <td>4.0</td>\n",
       "    </tr>\n",
       "  </tbody>\n",
       "</table>\n",
       "</div>"
      ],
      "text/plain": [
       "  Restaurant_id  Rating\n",
       "0          id_0     2.0\n",
       "1          id_1     2.5\n",
       "2          id_2     4.0\n",
       "3          id_3     1.0\n",
       "4          id_4     4.0"
      ]
     },
     "execution_count": 9,
     "metadata": {},
     "output_type": "execute_result"
    }
   ],
   "source": [
    "sample_submission.head(5)"
   ]
  },
  {
   "cell_type": "code",
   "execution_count": 10,
   "metadata": {
    "execution": {
     "iopub.execute_input": "2021-08-11T18:01:12.002699Z",
     "iopub.status.busy": "2021-08-11T18:01:12.00209Z",
     "iopub.status.idle": "2021-08-11T18:01:12.012595Z",
     "shell.execute_reply": "2021-08-11T18:01:12.011668Z",
     "shell.execute_reply.started": "2021-08-11T18:01:12.002353Z"
    }
   },
   "outputs": [
    {
     "name": "stdout",
     "output_type": "stream",
     "text": [
      "<class 'pandas.core.frame.DataFrame'>\n",
      "RangeIndex: 10000 entries, 0 to 9999\n",
      "Data columns (total 2 columns):\n",
      "Restaurant_id    10000 non-null object\n",
      "Rating           10000 non-null float64\n",
      "dtypes: float64(1), object(1)\n",
      "memory usage: 156.4+ KB\n"
     ]
    }
   ],
   "source": [
    "sample_submission.info()"
   ]
  },
  {
   "cell_type": "code",
   "execution_count": 11,
   "metadata": {
    "execution": {
     "iopub.execute_input": "2021-08-11T18:01:12.015383Z",
     "iopub.status.busy": "2021-08-11T18:01:12.015068Z",
     "iopub.status.idle": "2021-08-11T18:01:12.062328Z",
     "shell.execute_reply": "2021-08-11T18:01:12.061286Z",
     "shell.execute_reply.started": "2021-08-11T18:01:12.015333Z"
    }
   },
   "outputs": [],
   "source": [
    "# ВАЖНО! дря корректной обработки признаков объединяем трейн и тест в один датасет\n",
    "df_train['sample'] = 1 # помечаем где у нас трейн\n",
    "df_test['sample'] = 0 # помечаем где у нас тест\n",
    "df_test['Rating'] = 0 # в тесте у нас нет значения Rating, мы его должны предсказать, по этому пока просто заполняем нулями\n",
    "\n",
    "data = df_test.append(df_train, sort=False).reset_index(drop=True) # объединяем"
   ]
  },
  {
   "cell_type": "code",
   "execution_count": 12,
   "metadata": {
    "execution": {
     "iopub.execute_input": "2021-08-11T18:01:12.063928Z",
     "iopub.status.busy": "2021-08-11T18:01:12.063678Z",
     "iopub.status.idle": "2021-08-11T18:01:12.108824Z",
     "shell.execute_reply": "2021-08-11T18:01:12.108172Z",
     "shell.execute_reply.started": "2021-08-11T18:01:12.063886Z"
    }
   },
   "outputs": [
    {
     "name": "stdout",
     "output_type": "stream",
     "text": [
      "<class 'pandas.core.frame.DataFrame'>\n",
      "RangeIndex: 50000 entries, 0 to 49999\n",
      "Data columns (total 11 columns):\n",
      "Restaurant_id        50000 non-null object\n",
      "City                 50000 non-null object\n",
      "Cuisine Style        38410 non-null object\n",
      "Ranking              50000 non-null float64\n",
      "Price Range          32639 non-null object\n",
      "Number of Reviews    46800 non-null float64\n",
      "Reviews              49998 non-null object\n",
      "URL_TA               50000 non-null object\n",
      "ID_TA                50000 non-null object\n",
      "sample               50000 non-null int64\n",
      "Rating               50000 non-null float64\n",
      "dtypes: float64(3), int64(1), object(7)\n",
      "memory usage: 4.2+ MB\n"
     ]
    }
   ],
   "source": [
    "data.info()"
   ]
  },
  {
   "cell_type": "markdown",
   "metadata": {},
   "source": [
    "Подробнее по признакам:\n",
    "* City: Город \n",
    "* Cuisine Style: Кухня\n",
    "* Ranking: Ранг ресторана относительно других ресторанов в этом городе\n",
    "* Price Range: Цены в ресторане в 3 категориях\n",
    "* Number of Reviews: Количество отзывов\n",
    "* Reviews: 2 последних отзыва и даты этих отзывов\n",
    "* URL_TA: страница ресторана на 'www.tripadvisor.com' \n",
    "* ID_TA: ID ресторана в TripAdvisor\n",
    "* Rating: Рейтинг ресторана"
   ]
  },
  {
   "cell_type": "code",
   "execution_count": 13,
   "metadata": {
    "execution": {
     "iopub.execute_input": "2021-08-11T18:01:12.338833Z",
     "iopub.status.busy": "2021-08-11T18:01:12.338314Z",
     "iopub.status.idle": "2021-08-11T18:01:12.360049Z",
     "shell.execute_reply": "2021-08-11T18:01:12.359135Z",
     "shell.execute_reply.started": "2021-08-11T18:01:12.338764Z"
    }
   },
   "outputs": [
    {
     "data": {
      "text/html": [
       "<div>\n",
       "<style scoped>\n",
       "    .dataframe tbody tr th:only-of-type {\n",
       "        vertical-align: middle;\n",
       "    }\n",
       "\n",
       "    .dataframe tbody tr th {\n",
       "        vertical-align: top;\n",
       "    }\n",
       "\n",
       "    .dataframe thead th {\n",
       "        text-align: right;\n",
       "    }\n",
       "</style>\n",
       "<table border=\"1\" class=\"dataframe\">\n",
       "  <thead>\n",
       "    <tr style=\"text-align: right;\">\n",
       "      <th></th>\n",
       "      <th>Restaurant_id</th>\n",
       "      <th>City</th>\n",
       "      <th>Cuisine Style</th>\n",
       "      <th>Ranking</th>\n",
       "      <th>Price Range</th>\n",
       "      <th>Number of Reviews</th>\n",
       "      <th>Reviews</th>\n",
       "      <th>URL_TA</th>\n",
       "      <th>ID_TA</th>\n",
       "      <th>sample</th>\n",
       "      <th>Rating</th>\n",
       "    </tr>\n",
       "  </thead>\n",
       "  <tbody>\n",
       "    <tr>\n",
       "      <th>49169</th>\n",
       "      <td>id_5966</td>\n",
       "      <td>Madrid</td>\n",
       "      <td>NaN</td>\n",
       "      <td>5969.0</td>\n",
       "      <td>NaN</td>\n",
       "      <td>3.0</td>\n",
       "      <td>[[], []]</td>\n",
       "      <td>/Restaurant_Review-g187514-d8285422-Reviews-Va...</td>\n",
       "      <td>d8285422</td>\n",
       "      <td>1</td>\n",
       "      <td>4.0</td>\n",
       "    </tr>\n",
       "    <tr>\n",
       "      <th>49249</th>\n",
       "      <td>id_514</td>\n",
       "      <td>Rome</td>\n",
       "      <td>['Pizza', 'Italian', 'Seafood', 'Mediterranean...</td>\n",
       "      <td>515.0</td>\n",
       "      <td>$$ - $$$</td>\n",
       "      <td>757.0</td>\n",
       "      <td>[['Seafood delight', 'Lovely restaurant off th...</td>\n",
       "      <td>/Restaurant_Review-g187791-d7099015-Reviews-La...</td>\n",
       "      <td>d7099015</td>\n",
       "      <td>1</td>\n",
       "      <td>4.0</td>\n",
       "    </tr>\n",
       "    <tr>\n",
       "      <th>37834</th>\n",
       "      <td>id_5616</td>\n",
       "      <td>Berlin</td>\n",
       "      <td>['Thai']</td>\n",
       "      <td>5618.0</td>\n",
       "      <td>NaN</td>\n",
       "      <td>9.0</td>\n",
       "      <td>[['Fast Friendly Local-favorite Lunch', 'Good ...</td>\n",
       "      <td>/Restaurant_Review-g187323-d2554534-Reviews-Th...</td>\n",
       "      <td>d2554534</td>\n",
       "      <td>1</td>\n",
       "      <td>4.0</td>\n",
       "    </tr>\n",
       "    <tr>\n",
       "      <th>35390</th>\n",
       "      <td>id_944</td>\n",
       "      <td>Krakow</td>\n",
       "      <td>NaN</td>\n",
       "      <td>945.0</td>\n",
       "      <td>NaN</td>\n",
       "      <td>3.0</td>\n",
       "      <td>[[], []]</td>\n",
       "      <td>/Restaurant_Review-g274772-d12119431-Reviews-P...</td>\n",
       "      <td>d12119431</td>\n",
       "      <td>1</td>\n",
       "      <td>4.5</td>\n",
       "    </tr>\n",
       "    <tr>\n",
       "      <th>10221</th>\n",
       "      <td>id_2617</td>\n",
       "      <td>Lisbon</td>\n",
       "      <td>NaN</td>\n",
       "      <td>2620.0</td>\n",
       "      <td>NaN</td>\n",
       "      <td>2.0</td>\n",
       "      <td>[[], []]</td>\n",
       "      <td>/Restaurant_Review-g189158-d12999507-Reviews-C...</td>\n",
       "      <td>d12999507</td>\n",
       "      <td>1</td>\n",
       "      <td>4.0</td>\n",
       "    </tr>\n",
       "  </tbody>\n",
       "</table>\n",
       "</div>"
      ],
      "text/plain": [
       "      Restaurant_id    City  \\\n",
       "49169       id_5966  Madrid   \n",
       "49249        id_514    Rome   \n",
       "37834       id_5616  Berlin   \n",
       "35390        id_944  Krakow   \n",
       "10221       id_2617  Lisbon   \n",
       "\n",
       "                                           Cuisine Style  Ranking Price Range  \\\n",
       "49169                                                NaN   5969.0         NaN   \n",
       "49249  ['Pizza', 'Italian', 'Seafood', 'Mediterranean...    515.0    $$ - $$$   \n",
       "37834                                           ['Thai']   5618.0         NaN   \n",
       "35390                                                NaN    945.0         NaN   \n",
       "10221                                                NaN   2620.0         NaN   \n",
       "\n",
       "       Number of Reviews                                            Reviews  \\\n",
       "49169                3.0                                           [[], []]   \n",
       "49249              757.0  [['Seafood delight', 'Lovely restaurant off th...   \n",
       "37834                9.0  [['Fast Friendly Local-favorite Lunch', 'Good ...   \n",
       "35390                3.0                                           [[], []]   \n",
       "10221                2.0                                           [[], []]   \n",
       "\n",
       "                                                  URL_TA      ID_TA  sample  \\\n",
       "49169  /Restaurant_Review-g187514-d8285422-Reviews-Va...   d8285422       1   \n",
       "49249  /Restaurant_Review-g187791-d7099015-Reviews-La...   d7099015       1   \n",
       "37834  /Restaurant_Review-g187323-d2554534-Reviews-Th...   d2554534       1   \n",
       "35390  /Restaurant_Review-g274772-d12119431-Reviews-P...  d12119431       1   \n",
       "10221  /Restaurant_Review-g189158-d12999507-Reviews-C...  d12999507       1   \n",
       "\n",
       "       Rating  \n",
       "49169     4.0  \n",
       "49249     4.0  \n",
       "37834     4.0  \n",
       "35390     4.5  \n",
       "10221     4.0  "
      ]
     },
     "execution_count": 13,
     "metadata": {},
     "output_type": "execute_result"
    }
   ],
   "source": [
    "data.sample(5)"
   ]
  },
  {
   "cell_type": "code",
   "execution_count": 14,
   "metadata": {
    "execution": {
     "iopub.execute_input": "2021-08-11T18:01:12.643472Z",
     "iopub.status.busy": "2021-08-11T18:01:12.643122Z",
     "iopub.status.idle": "2021-08-11T18:01:12.65099Z",
     "shell.execute_reply": "2021-08-11T18:01:12.649695Z",
     "shell.execute_reply.started": "2021-08-11T18:01:12.643409Z"
    }
   },
   "outputs": [
    {
     "name": "stdout",
     "output_type": "stream",
     "text": [
      "12/06/2017\n"
     ]
    }
   ],
   "source": [
    "\n",
    "print(data['Reviews'][2][-13:-3])"
   ]
  },
  {
   "cell_type": "code",
   "execution_count": 15,
   "metadata": {
    "execution": {
     "iopub.execute_input": "2021-08-11T18:01:13.665707Z",
     "iopub.status.busy": "2021-08-11T18:01:13.665254Z",
     "iopub.status.idle": "2021-08-11T18:01:13.725208Z",
     "shell.execute_reply": "2021-08-11T18:01:13.724176Z",
     "shell.execute_reply.started": "2021-08-11T18:01:13.665664Z"
    }
   },
   "outputs": [
    {
     "name": "stderr",
     "output_type": "stream",
     "text": [
      "/opt/conda/lib/python3.6/site-packages/ipykernel_launcher.py:37: SettingWithCopyWarning: \n",
      "A value is trying to be set on a copy of a slice from a DataFrame.\n",
      "Try using .loc[row_indexer,col_indexer] = value instead\n",
      "\n",
      "See the caveats in the documentation: http://pandas.pydata.org/pandas-docs/stable/user_guide/indexing.html#returning-a-view-versus-a-copy\n",
      "/opt/conda/lib/python3.6/site-packages/ipykernel_launcher.py:38: SettingWithCopyWarning: \n",
      "A value is trying to be set on a copy of a slice from a DataFrame.\n",
      "Try using .loc[row_indexer,col_indexer] = value instead\n",
      "\n",
      "See the caveats in the documentation: http://pandas.pydata.org/pandas-docs/stable/user_guide/indexing.html#returning-a-view-versus-a-copy\n",
      "/opt/conda/lib/python3.6/site-packages/ipykernel_launcher.py:39: SettingWithCopyWarning: \n",
      "A value is trying to be set on a copy of a slice from a DataFrame.\n",
      "Try using .loc[row_indexer,col_indexer] = value instead\n",
      "\n",
      "See the caveats in the documentation: http://pandas.pydata.org/pandas-docs/stable/user_guide/indexing.html#returning-a-view-versus-a-copy\n",
      "/opt/conda/lib/python3.6/site-packages/pandas/core/generic.py:5208: SettingWithCopyWarning: \n",
      "A value is trying to be set on a copy of a slice from a DataFrame.\n",
      "Try using .loc[row_indexer,col_indexer] = value instead\n",
      "\n",
      "See the caveats in the documentation: http://pandas.pydata.org/pandas-docs/stable/user_guide/indexing.html#returning-a-view-versus-a-copy\n",
      "  self[name] = value\n",
      "/opt/conda/lib/python3.6/site-packages/ipykernel_launcher.py:41: SettingWithCopyWarning: \n",
      "A value is trying to be set on a copy of a slice from a DataFrame.\n",
      "Try using .loc[row_indexer,col_indexer] = value instead\n",
      "\n",
      "See the caveats in the documentation: http://pandas.pydata.org/pandas-docs/stable/user_guide/indexing.html#returning-a-view-versus-a-copy\n"
     ]
    },
    {
     "data": {
      "text/html": [
       "<div>\n",
       "<style scoped>\n",
       "    .dataframe tbody tr th:only-of-type {\n",
       "        vertical-align: middle;\n",
       "    }\n",
       "\n",
       "    .dataframe tbody tr th {\n",
       "        vertical-align: top;\n",
       "    }\n",
       "\n",
       "    .dataframe thead th {\n",
       "        text-align: right;\n",
       "    }\n",
       "</style>\n",
       "<table border=\"1\" class=\"dataframe\">\n",
       "  <thead>\n",
       "    <tr style=\"text-align: right;\">\n",
       "      <th></th>\n",
       "      <th>Restaurant_id</th>\n",
       "      <th>City</th>\n",
       "      <th>Cuisine Style</th>\n",
       "      <th>Ranking</th>\n",
       "      <th>Price Range</th>\n",
       "      <th>Number of Reviews</th>\n",
       "      <th>Reviews</th>\n",
       "      <th>URL_TA</th>\n",
       "      <th>ID_TA</th>\n",
       "      <th>sample</th>\n",
       "      <th>Rating</th>\n",
       "      <th>year</th>\n",
       "      <th>wd</th>\n",
       "      <th>WDNAN</th>\n",
       "      <th>YNAN</th>\n",
       "    </tr>\n",
       "  </thead>\n",
       "  <tbody>\n",
       "    <tr>\n",
       "      <th>0</th>\n",
       "      <td>id_0</td>\n",
       "      <td>Paris</td>\n",
       "      <td>['Bar', 'Pub']</td>\n",
       "      <td>12963.0</td>\n",
       "      <td>$$ - $$$</td>\n",
       "      <td>4.0</td>\n",
       "      <td>[[], []]</td>\n",
       "      <td>/Restaurant_Review-g187147-d10746918-Reviews-L...</td>\n",
       "      <td>d10746918</td>\n",
       "      <td>0</td>\n",
       "      <td>0.0</td>\n",
       "      <td>2017.0</td>\n",
       "      <td>5.0</td>\n",
       "      <td>1</td>\n",
       "      <td>1</td>\n",
       "    </tr>\n",
       "    <tr>\n",
       "      <th>1</th>\n",
       "      <td>id_1</td>\n",
       "      <td>Helsinki</td>\n",
       "      <td>['European', 'Scandinavian', 'Gluten Free Opti...</td>\n",
       "      <td>106.0</td>\n",
       "      <td>$$ - $$$</td>\n",
       "      <td>97.0</td>\n",
       "      <td>[['Very good reviews!', 'Fine dining in Hakani...</td>\n",
       "      <td>/Restaurant_Review-g189934-d6674944-Reviews-Ra...</td>\n",
       "      <td>d6674944</td>\n",
       "      <td>0</td>\n",
       "      <td>0.0</td>\n",
       "      <td>2017.0</td>\n",
       "      <td>6.0</td>\n",
       "      <td>0</td>\n",
       "      <td>0</td>\n",
       "    </tr>\n",
       "    <tr>\n",
       "      <th>2</th>\n",
       "      <td>id_2</td>\n",
       "      <td>Edinburgh</td>\n",
       "      <td>['Vegetarian Friendly']</td>\n",
       "      <td>810.0</td>\n",
       "      <td>$$ - $$$</td>\n",
       "      <td>28.0</td>\n",
       "      <td>[['Better than the Links', 'Ivy Black'], ['12/...</td>\n",
       "      <td>/Restaurant_Review-g186525-d13129638-Reviews-B...</td>\n",
       "      <td>d13129638</td>\n",
       "      <td>0</td>\n",
       "      <td>0.0</td>\n",
       "      <td>2017.0</td>\n",
       "      <td>2.0</td>\n",
       "      <td>0</td>\n",
       "      <td>0</td>\n",
       "    </tr>\n",
       "    <tr>\n",
       "      <th>3</th>\n",
       "      <td>id_3</td>\n",
       "      <td>London</td>\n",
       "      <td>['Italian', 'Mediterranean', 'European', 'Vege...</td>\n",
       "      <td>1669.0</td>\n",
       "      <td>$$$$</td>\n",
       "      <td>202.0</td>\n",
       "      <td>[['Most exquisite', 'Delicious and authentic']...</td>\n",
       "      <td>/Restaurant_Review-g186338-d680417-Reviews-Qui...</td>\n",
       "      <td>d680417</td>\n",
       "      <td>0</td>\n",
       "      <td>0.0</td>\n",
       "      <td>2017.0</td>\n",
       "      <td>2.0</td>\n",
       "      <td>0</td>\n",
       "      <td>0</td>\n",
       "    </tr>\n",
       "    <tr>\n",
       "      <th>4</th>\n",
       "      <td>id_4</td>\n",
       "      <td>Bratislava</td>\n",
       "      <td>['Italian', 'Mediterranean', 'European', 'Seaf...</td>\n",
       "      <td>37.0</td>\n",
       "      <td>$$$$</td>\n",
       "      <td>162.0</td>\n",
       "      <td>[['Always the best in bratislava', 'Very good ...</td>\n",
       "      <td>/Restaurant_Review-g274924-d1112354-Reviews-Ma...</td>\n",
       "      <td>d1112354</td>\n",
       "      <td>0</td>\n",
       "      <td>0.0</td>\n",
       "      <td>2018.0</td>\n",
       "      <td>2.0</td>\n",
       "      <td>0</td>\n",
       "      <td>0</td>\n",
       "    </tr>\n",
       "    <tr>\n",
       "      <th>5</th>\n",
       "      <td>id_5</td>\n",
       "      <td>Paris</td>\n",
       "      <td>['French', 'Cafe', 'Fast Food']</td>\n",
       "      <td>5093.0</td>\n",
       "      <td>$</td>\n",
       "      <td>24.0</td>\n",
       "      <td>[['Lunch Break', 'Good to Quick Bite'], ['09/0...</td>\n",
       "      <td>/Restaurant_Review-g187147-d8458643-Reviews-Le...</td>\n",
       "      <td>d8458643</td>\n",
       "      <td>0</td>\n",
       "      <td>0.0</td>\n",
       "      <td>2017.0</td>\n",
       "      <td>5.0</td>\n",
       "      <td>0</td>\n",
       "      <td>0</td>\n",
       "    </tr>\n",
       "    <tr>\n",
       "      <th>6</th>\n",
       "      <td>id_6</td>\n",
       "      <td>Lisbon</td>\n",
       "      <td>['European', 'Portuguese']</td>\n",
       "      <td>3704.0</td>\n",
       "      <td>$</td>\n",
       "      <td>2.0</td>\n",
       "      <td>[[], []]</td>\n",
       "      <td>/Restaurant_Review-g189158-d8758873-Reviews-Li...</td>\n",
       "      <td>d8758873</td>\n",
       "      <td>0</td>\n",
       "      <td>0.0</td>\n",
       "      <td>2017.0</td>\n",
       "      <td>5.0</td>\n",
       "      <td>1</td>\n",
       "      <td>1</td>\n",
       "    </tr>\n",
       "    <tr>\n",
       "      <th>7</th>\n",
       "      <td>id_7</td>\n",
       "      <td>Budapest</td>\n",
       "      <td>NaN</td>\n",
       "      <td>2330.0</td>\n",
       "      <td>NaN</td>\n",
       "      <td>NaN</td>\n",
       "      <td>[[], []]</td>\n",
       "      <td>/Restaurant_Review-g274887-d8286886-Reviews-Be...</td>\n",
       "      <td>d8286886</td>\n",
       "      <td>0</td>\n",
       "      <td>0.0</td>\n",
       "      <td>2017.0</td>\n",
       "      <td>5.0</td>\n",
       "      <td>1</td>\n",
       "      <td>1</td>\n",
       "    </tr>\n",
       "    <tr>\n",
       "      <th>8</th>\n",
       "      <td>id_8</td>\n",
       "      <td>Helsinki</td>\n",
       "      <td>['European', 'Scandinavian']</td>\n",
       "      <td>771.0</td>\n",
       "      <td>NaN</td>\n",
       "      <td>2.0</td>\n",
       "      <td>[['Big group supper', 'Good food but very slow...</td>\n",
       "      <td>/Restaurant_Review-g189934-d12947542-Reviews-B...</td>\n",
       "      <td>d12947542</td>\n",
       "      <td>0</td>\n",
       "      <td>0.0</td>\n",
       "      <td>2017.0</td>\n",
       "      <td>2.0</td>\n",
       "      <td>0</td>\n",
       "      <td>0</td>\n",
       "    </tr>\n",
       "    <tr>\n",
       "      <th>9</th>\n",
       "      <td>id_9</td>\n",
       "      <td>Stockholm</td>\n",
       "      <td>['Italian']</td>\n",
       "      <td>605.0</td>\n",
       "      <td>NaN</td>\n",
       "      <td>13.0</td>\n",
       "      <td>[['Good food', 'Good pizza'], ['12/02/2017', '...</td>\n",
       "      <td>/Restaurant_Review-g189852-d12716384-Reviews-I...</td>\n",
       "      <td>d12716384</td>\n",
       "      <td>0</td>\n",
       "      <td>0.0</td>\n",
       "      <td>2017.0</td>\n",
       "      <td>6.0</td>\n",
       "      <td>0</td>\n",
       "      <td>0</td>\n",
       "    </tr>\n",
       "    <tr>\n",
       "      <th>10</th>\n",
       "      <td>id_10</td>\n",
       "      <td>Rome</td>\n",
       "      <td>NaN</td>\n",
       "      <td>1209.0</td>\n",
       "      <td>NaN</td>\n",
       "      <td>306.0</td>\n",
       "      <td>[['Very pretentious, but drinks are top notch'...</td>\n",
       "      <td>/Restaurant_Review-g187791-d7818546-Reviews-Je...</td>\n",
       "      <td>d7818546</td>\n",
       "      <td>0</td>\n",
       "      <td>0.0</td>\n",
       "      <td>2017.0</td>\n",
       "      <td>6.0</td>\n",
       "      <td>0</td>\n",
       "      <td>0</td>\n",
       "    </tr>\n",
       "    <tr>\n",
       "      <th>11</th>\n",
       "      <td>id_11</td>\n",
       "      <td>Milan</td>\n",
       "      <td>['Italian']</td>\n",
       "      <td>4234.0</td>\n",
       "      <td>$$ - $$$</td>\n",
       "      <td>36.0</td>\n",
       "      <td>[['GREAT APERITIVO WITH STYLE', 'Disappointing...</td>\n",
       "      <td>/Restaurant_Review-g187849-d7209625-Reviews-M_...</td>\n",
       "      <td>d7209625</td>\n",
       "      <td>0</td>\n",
       "      <td>0.0</td>\n",
       "      <td>2015.0</td>\n",
       "      <td>6.0</td>\n",
       "      <td>0</td>\n",
       "      <td>0</td>\n",
       "    </tr>\n",
       "    <tr>\n",
       "      <th>12</th>\n",
       "      <td>id_12</td>\n",
       "      <td>Munich</td>\n",
       "      <td>['Greek']</td>\n",
       "      <td>1987.0</td>\n",
       "      <td>$</td>\n",
       "      <td>10.0</td>\n",
       "      <td>[['You always feel very Welcome at this cozy.....</td>\n",
       "      <td>/Restaurant_Review-g187309-d958943-Reviews-Wro...</td>\n",
       "      <td>d958943</td>\n",
       "      <td>0</td>\n",
       "      <td>0.0</td>\n",
       "      <td>2010.0</td>\n",
       "      <td>5.0</td>\n",
       "      <td>0</td>\n",
       "      <td>0</td>\n",
       "    </tr>\n",
       "    <tr>\n",
       "      <th>13</th>\n",
       "      <td>id_13</td>\n",
       "      <td>Hamburg</td>\n",
       "      <td>NaN</td>\n",
       "      <td>1000.0</td>\n",
       "      <td>NaN</td>\n",
       "      <td>30.0</td>\n",
       "      <td>[['Surprisingly good pizza', 'Yummy'], ['09/28...</td>\n",
       "      <td>/Restaurant_Review-g187331-d1344523-Reviews-Il...</td>\n",
       "      <td>d1344523</td>\n",
       "      <td>0</td>\n",
       "      <td>0.0</td>\n",
       "      <td>2016.0</td>\n",
       "      <td>0.0</td>\n",
       "      <td>0</td>\n",
       "      <td>0</td>\n",
       "    </tr>\n",
       "    <tr>\n",
       "      <th>14</th>\n",
       "      <td>id_14</td>\n",
       "      <td>Prague</td>\n",
       "      <td>['European', 'Czech', 'Eastern European', 'Cen...</td>\n",
       "      <td>1105.0</td>\n",
       "      <td>$$ - $$$</td>\n",
       "      <td>273.0</td>\n",
       "      <td>[['Good food, beer, value and service', 'Eat u...</td>\n",
       "      <td>/Restaurant_Review-g274707-d1093021-Reviews-U_...</td>\n",
       "      <td>d1093021</td>\n",
       "      <td>0</td>\n",
       "      <td>0.0</td>\n",
       "      <td>2017.0</td>\n",
       "      <td>2.0</td>\n",
       "      <td>0</td>\n",
       "      <td>0</td>\n",
       "    </tr>\n",
       "    <tr>\n",
       "      <th>15</th>\n",
       "      <td>id_15</td>\n",
       "      <td>Paris</td>\n",
       "      <td>['French']</td>\n",
       "      <td>12899.0</td>\n",
       "      <td>$</td>\n",
       "      <td>39.0</td>\n",
       "      <td>[['Very nice food and staff', 'Lovely service ...</td>\n",
       "      <td>/Restaurant_Review-g187147-d7605609-Reviews-Le...</td>\n",
       "      <td>d7605609</td>\n",
       "      <td>0</td>\n",
       "      <td>0.0</td>\n",
       "      <td>2016.0</td>\n",
       "      <td>5.0</td>\n",
       "      <td>0</td>\n",
       "      <td>0</td>\n",
       "    </tr>\n",
       "    <tr>\n",
       "      <th>16</th>\n",
       "      <td>id_16</td>\n",
       "      <td>Milan</td>\n",
       "      <td>['Pizza', 'Vegetarian Friendly', 'Vegan Options']</td>\n",
       "      <td>1825.0</td>\n",
       "      <td>$$ - $$$</td>\n",
       "      <td>322.0</td>\n",
       "      <td>[['truly Neapolitan pizza, new/slick location'...</td>\n",
       "      <td>/Restaurant_Review-g187849-d11850449-Reviews-P...</td>\n",
       "      <td>d11850449</td>\n",
       "      <td>0</td>\n",
       "      <td>0.0</td>\n",
       "      <td>2017.0</td>\n",
       "      <td>3.0</td>\n",
       "      <td>0</td>\n",
       "      <td>0</td>\n",
       "    </tr>\n",
       "    <tr>\n",
       "      <th>17</th>\n",
       "      <td>id_17</td>\n",
       "      <td>London</td>\n",
       "      <td>['Bar', 'British', 'Pub', 'Vegetarian Friendly...</td>\n",
       "      <td>2349.0</td>\n",
       "      <td>$$ - $$$</td>\n",
       "      <td>282.0</td>\n",
       "      <td>[['Quite a decent pub', 'in the middle of noth...</td>\n",
       "      <td>/Restaurant_Review-g186338-d2188276-Reviews-Th...</td>\n",
       "      <td>d2188276</td>\n",
       "      <td>0</td>\n",
       "      <td>0.0</td>\n",
       "      <td>2017.0</td>\n",
       "      <td>1.0</td>\n",
       "      <td>0</td>\n",
       "      <td>0</td>\n",
       "    </tr>\n",
       "    <tr>\n",
       "      <th>18</th>\n",
       "      <td>id_18</td>\n",
       "      <td>Vienna</td>\n",
       "      <td>NaN</td>\n",
       "      <td>3360.0</td>\n",
       "      <td>NaN</td>\n",
       "      <td>2.0</td>\n",
       "      <td>[[], []]</td>\n",
       "      <td>/Restaurant_Review-g190454-d8435085-Reviews-An...</td>\n",
       "      <td>d8435085</td>\n",
       "      <td>0</td>\n",
       "      <td>0.0</td>\n",
       "      <td>2017.0</td>\n",
       "      <td>5.0</td>\n",
       "      <td>1</td>\n",
       "      <td>1</td>\n",
       "    </tr>\n",
       "    <tr>\n",
       "      <th>19</th>\n",
       "      <td>id_19</td>\n",
       "      <td>Dublin</td>\n",
       "      <td>['Italian', 'Pizza', 'European', 'Gluten Free ...</td>\n",
       "      <td>717.0</td>\n",
       "      <td>$$ - $$$</td>\n",
       "      <td>102.0</td>\n",
       "      <td>[['Local joy', 'Cozy, cute and good food'], ['...</td>\n",
       "      <td>/Restaurant_Review-g186605-d2177920-Reviews-Bi...</td>\n",
       "      <td>d2177920</td>\n",
       "      <td>0</td>\n",
       "      <td>0.0</td>\n",
       "      <td>2017.0</td>\n",
       "      <td>3.0</td>\n",
       "      <td>0</td>\n",
       "      <td>0</td>\n",
       "    </tr>\n",
       "  </tbody>\n",
       "</table>\n",
       "</div>"
      ],
      "text/plain": [
       "   Restaurant_id        City  \\\n",
       "0           id_0       Paris   \n",
       "1           id_1    Helsinki   \n",
       "2           id_2   Edinburgh   \n",
       "3           id_3      London   \n",
       "4           id_4  Bratislava   \n",
       "5           id_5       Paris   \n",
       "6           id_6      Lisbon   \n",
       "7           id_7    Budapest   \n",
       "8           id_8    Helsinki   \n",
       "9           id_9   Stockholm   \n",
       "10         id_10        Rome   \n",
       "11         id_11       Milan   \n",
       "12         id_12      Munich   \n",
       "13         id_13     Hamburg   \n",
       "14         id_14      Prague   \n",
       "15         id_15       Paris   \n",
       "16         id_16       Milan   \n",
       "17         id_17      London   \n",
       "18         id_18      Vienna   \n",
       "19         id_19      Dublin   \n",
       "\n",
       "                                        Cuisine Style  Ranking Price Range  \\\n",
       "0                                      ['Bar', 'Pub']  12963.0    $$ - $$$   \n",
       "1   ['European', 'Scandinavian', 'Gluten Free Opti...    106.0    $$ - $$$   \n",
       "2                             ['Vegetarian Friendly']    810.0    $$ - $$$   \n",
       "3   ['Italian', 'Mediterranean', 'European', 'Vege...   1669.0        $$$$   \n",
       "4   ['Italian', 'Mediterranean', 'European', 'Seaf...     37.0        $$$$   \n",
       "5                     ['French', 'Cafe', 'Fast Food']   5093.0           $   \n",
       "6                          ['European', 'Portuguese']   3704.0           $   \n",
       "7                                                 NaN   2330.0         NaN   \n",
       "8                        ['European', 'Scandinavian']    771.0         NaN   \n",
       "9                                         ['Italian']    605.0         NaN   \n",
       "10                                                NaN   1209.0         NaN   \n",
       "11                                        ['Italian']   4234.0    $$ - $$$   \n",
       "12                                          ['Greek']   1987.0           $   \n",
       "13                                                NaN   1000.0         NaN   \n",
       "14  ['European', 'Czech', 'Eastern European', 'Cen...   1105.0    $$ - $$$   \n",
       "15                                         ['French']  12899.0           $   \n",
       "16  ['Pizza', 'Vegetarian Friendly', 'Vegan Options']   1825.0    $$ - $$$   \n",
       "17  ['Bar', 'British', 'Pub', 'Vegetarian Friendly...   2349.0    $$ - $$$   \n",
       "18                                                NaN   3360.0         NaN   \n",
       "19  ['Italian', 'Pizza', 'European', 'Gluten Free ...    717.0    $$ - $$$   \n",
       "\n",
       "    Number of Reviews                                            Reviews  \\\n",
       "0                 4.0                                           [[], []]   \n",
       "1                97.0  [['Very good reviews!', 'Fine dining in Hakani...   \n",
       "2                28.0  [['Better than the Links', 'Ivy Black'], ['12/...   \n",
       "3               202.0  [['Most exquisite', 'Delicious and authentic']...   \n",
       "4               162.0  [['Always the best in bratislava', 'Very good ...   \n",
       "5                24.0  [['Lunch Break', 'Good to Quick Bite'], ['09/0...   \n",
       "6                 2.0                                           [[], []]   \n",
       "7                 NaN                                           [[], []]   \n",
       "8                 2.0  [['Big group supper', 'Good food but very slow...   \n",
       "9                13.0  [['Good food', 'Good pizza'], ['12/02/2017', '...   \n",
       "10              306.0  [['Very pretentious, but drinks are top notch'...   \n",
       "11               36.0  [['GREAT APERITIVO WITH STYLE', 'Disappointing...   \n",
       "12               10.0  [['You always feel very Welcome at this cozy.....   \n",
       "13               30.0  [['Surprisingly good pizza', 'Yummy'], ['09/28...   \n",
       "14              273.0  [['Good food, beer, value and service', 'Eat u...   \n",
       "15               39.0  [['Very nice food and staff', 'Lovely service ...   \n",
       "16              322.0  [['truly Neapolitan pizza, new/slick location'...   \n",
       "17              282.0  [['Quite a decent pub', 'in the middle of noth...   \n",
       "18                2.0                                           [[], []]   \n",
       "19              102.0  [['Local joy', 'Cozy, cute and good food'], ['...   \n",
       "\n",
       "                                               URL_TA      ID_TA  sample  \\\n",
       "0   /Restaurant_Review-g187147-d10746918-Reviews-L...  d10746918       0   \n",
       "1   /Restaurant_Review-g189934-d6674944-Reviews-Ra...   d6674944       0   \n",
       "2   /Restaurant_Review-g186525-d13129638-Reviews-B...  d13129638       0   \n",
       "3   /Restaurant_Review-g186338-d680417-Reviews-Qui...    d680417       0   \n",
       "4   /Restaurant_Review-g274924-d1112354-Reviews-Ma...   d1112354       0   \n",
       "5   /Restaurant_Review-g187147-d8458643-Reviews-Le...   d8458643       0   \n",
       "6   /Restaurant_Review-g189158-d8758873-Reviews-Li...   d8758873       0   \n",
       "7   /Restaurant_Review-g274887-d8286886-Reviews-Be...   d8286886       0   \n",
       "8   /Restaurant_Review-g189934-d12947542-Reviews-B...  d12947542       0   \n",
       "9   /Restaurant_Review-g189852-d12716384-Reviews-I...  d12716384       0   \n",
       "10  /Restaurant_Review-g187791-d7818546-Reviews-Je...   d7818546       0   \n",
       "11  /Restaurant_Review-g187849-d7209625-Reviews-M_...   d7209625       0   \n",
       "12  /Restaurant_Review-g187309-d958943-Reviews-Wro...    d958943       0   \n",
       "13  /Restaurant_Review-g187331-d1344523-Reviews-Il...   d1344523       0   \n",
       "14  /Restaurant_Review-g274707-d1093021-Reviews-U_...   d1093021       0   \n",
       "15  /Restaurant_Review-g187147-d7605609-Reviews-Le...   d7605609       0   \n",
       "16  /Restaurant_Review-g187849-d11850449-Reviews-P...  d11850449       0   \n",
       "17  /Restaurant_Review-g186338-d2188276-Reviews-Th...   d2188276       0   \n",
       "18  /Restaurant_Review-g190454-d8435085-Reviews-An...   d8435085       0   \n",
       "19  /Restaurant_Review-g186605-d2177920-Reviews-Bi...   d2177920       0   \n",
       "\n",
       "    Rating    year   wd  WDNAN  YNAN  \n",
       "0      0.0  2017.0  5.0      1     1  \n",
       "1      0.0  2017.0  6.0      0     0  \n",
       "2      0.0  2017.0  2.0      0     0  \n",
       "3      0.0  2017.0  2.0      0     0  \n",
       "4      0.0  2018.0  2.0      0     0  \n",
       "5      0.0  2017.0  5.0      0     0  \n",
       "6      0.0  2017.0  5.0      1     1  \n",
       "7      0.0  2017.0  5.0      1     1  \n",
       "8      0.0  2017.0  2.0      0     0  \n",
       "9      0.0  2017.0  6.0      0     0  \n",
       "10     0.0  2017.0  6.0      0     0  \n",
       "11     0.0  2015.0  6.0      0     0  \n",
       "12     0.0  2010.0  5.0      0     0  \n",
       "13     0.0  2016.0  0.0      0     0  \n",
       "14     0.0  2017.0  2.0      0     0  \n",
       "15     0.0  2016.0  5.0      0     0  \n",
       "16     0.0  2017.0  3.0      0     0  \n",
       "17     0.0  2017.0  1.0      0     0  \n",
       "18     0.0  2017.0  5.0      1     1  \n",
       "19     0.0  2017.0  3.0      0     0  "
      ]
     },
     "execution_count": 15,
     "metadata": {},
     "output_type": "execute_result"
    }
   ],
   "source": [
    "# преобразуем столбец обзоров в релевантные данные\n",
    "# взял мелкую выборку для тренировки \n",
    "\n",
    "def data_make(data, ser):\n",
    "    ser2 = list()\n",
    "    for i in range(len(data[ser])):\n",
    "        if str(data[ser][i]).find('/') != -1:\n",
    "            ser2.append(data[ser][i][-13:-3])\n",
    "        else:\n",
    "            ser2.append('NaN')\n",
    "    ser2 = pd.to_datetime(ser2, infer_datetime_format=True) \n",
    "    return ser2\n",
    "        \n",
    "def DoW(ser):\n",
    "    ser2 = list()\n",
    "    for i in range(len(ser)):\n",
    "        if ser[i] != 'NaT':\n",
    "            ser2.append(ser[i].dayofweek)\n",
    "        else:\n",
    "            ser2.append(ser[i])\n",
    "    return ser2\n",
    "    #ser.fillna(ser.dropna().value_couns.max())\n",
    "\n",
    "def year(ser):\n",
    "    ser2=list()\n",
    "    for i in range(len(ser)):\n",
    "        if ser[i] != 'NaT':\n",
    "            ser2.append(ser[i].year)\n",
    "        else:\n",
    "            ser2.append(ser[i])\n",
    "    return ser2\n",
    "    \n",
    "df = data[0:20]\n",
    "data2 = data_make(df , 'Reviews' )\n",
    "data3 = DoW(data2)\n",
    "dataY = year(data2)\n",
    "df['year']= dataY\n",
    "df['wd']=data3\n",
    "df['WDNAN'] = pd.isna(df['wd']).astype('uint8')\n",
    "df.wd = df.wd.fillna(df.wd.value_counts().max())\n",
    "df['YNAN'] = pd.isna(df['year']).astype('uint8')\n",
    "df.year = df.year.fillna(df.year.value_counts().index[0])\n",
    "\n",
    "df"
   ]
  },
  {
   "cell_type": "code",
   "execution_count": 16,
   "metadata": {
    "execution": {
     "iopub.execute_input": "2021-08-11T18:01:13.727857Z",
     "iopub.status.busy": "2021-08-11T18:01:13.727543Z",
     "iopub.status.idle": "2021-08-11T18:01:17.810875Z",
     "shell.execute_reply": "2021-08-11T18:01:17.81011Z",
     "shell.execute_reply.started": "2021-08-11T18:01:13.727801Z"
    }
   },
   "outputs": [],
   "source": [
    "# применяем на датасет\n",
    "data2 = data_make(data, 'Reviews')\n",
    "data3 = DoW(data2)\n",
    "data['wd']=data3\n",
    "data['WDNAN'] = pd.isna(data['wd']).astype('uint8')\n",
    "data.wd = data.wd.fillna(data.wd.value_counts().index[0])\n",
    "data.sample(5)\n",
    "dataY = year(data2)\n",
    "data['year']= dataY\n",
    "data['YNAN'] = pd.isna(data['year']).astype('uint8')\n",
    "data.year = data.year.fillna(data.year.value_counts().index[0])"
   ]
  },
  {
   "cell_type": "code",
   "execution_count": 17,
   "metadata": {
    "execution": {
     "iopub.execute_input": "2021-08-11T18:01:17.812575Z",
     "iopub.status.busy": "2021-08-11T18:01:17.81206Z",
     "iopub.status.idle": "2021-08-11T18:01:17.840824Z",
     "shell.execute_reply": "2021-08-11T18:01:17.839881Z",
     "shell.execute_reply.started": "2021-08-11T18:01:17.81238Z"
    }
   },
   "outputs": [
    {
     "data": {
      "text/html": [
       "<div>\n",
       "<style scoped>\n",
       "    .dataframe tbody tr th:only-of-type {\n",
       "        vertical-align: middle;\n",
       "    }\n",
       "\n",
       "    .dataframe tbody tr th {\n",
       "        vertical-align: top;\n",
       "    }\n",
       "\n",
       "    .dataframe thead th {\n",
       "        text-align: right;\n",
       "    }\n",
       "</style>\n",
       "<table border=\"1\" class=\"dataframe\">\n",
       "  <thead>\n",
       "    <tr style=\"text-align: right;\">\n",
       "      <th></th>\n",
       "      <th>Restaurant_id</th>\n",
       "      <th>City</th>\n",
       "      <th>Cuisine Style</th>\n",
       "      <th>Ranking</th>\n",
       "      <th>Price Range</th>\n",
       "      <th>Number of Reviews</th>\n",
       "      <th>Reviews</th>\n",
       "      <th>URL_TA</th>\n",
       "      <th>ID_TA</th>\n",
       "      <th>sample</th>\n",
       "      <th>Rating</th>\n",
       "      <th>wd</th>\n",
       "      <th>WDNAN</th>\n",
       "      <th>year</th>\n",
       "      <th>YNAN</th>\n",
       "    </tr>\n",
       "  </thead>\n",
       "  <tbody>\n",
       "    <tr>\n",
       "      <th>9382</th>\n",
       "      <td>id_9382</td>\n",
       "      <td>London</td>\n",
       "      <td>['Italian', 'Cafe', 'Mediterranean', 'European...</td>\n",
       "      <td>2080.0</td>\n",
       "      <td>$$ - $$$</td>\n",
       "      <td>78.0</td>\n",
       "      <td>[['Great wine, Good food, good Italian atmosp....</td>\n",
       "      <td>/Restaurant_Review-g186338-d9709112-Reviews-Ca...</td>\n",
       "      <td>d9709112</td>\n",
       "      <td>0</td>\n",
       "      <td>0.0</td>\n",
       "      <td>6.0</td>\n",
       "      <td>0</td>\n",
       "      <td>2017.0</td>\n",
       "      <td>0</td>\n",
       "    </tr>\n",
       "    <tr>\n",
       "      <th>9276</th>\n",
       "      <td>id_9276</td>\n",
       "      <td>Paris</td>\n",
       "      <td>NaN</td>\n",
       "      <td>8638.0</td>\n",
       "      <td>NaN</td>\n",
       "      <td>4.0</td>\n",
       "      <td>[[], []]</td>\n",
       "      <td>/Restaurant_Review-g187147-d12234886-Reviews-B...</td>\n",
       "      <td>d12234886</td>\n",
       "      <td>0</td>\n",
       "      <td>0.0</td>\n",
       "      <td>6.0</td>\n",
       "      <td>1</td>\n",
       "      <td>2017.0</td>\n",
       "      <td>1</td>\n",
       "    </tr>\n",
       "    <tr>\n",
       "      <th>11028</th>\n",
       "      <td>id_16353</td>\n",
       "      <td>London</td>\n",
       "      <td>['Fast Food', 'Halal']</td>\n",
       "      <td>16370.0</td>\n",
       "      <td>NaN</td>\n",
       "      <td>NaN</td>\n",
       "      <td>[['THE WINGS DISASTER'], ['05/18/2017']]</td>\n",
       "      <td>/Restaurant_Review-g186338-d7274076-Reviews-Or...</td>\n",
       "      <td>d7274076</td>\n",
       "      <td>1</td>\n",
       "      <td>1.0</td>\n",
       "      <td>3.0</td>\n",
       "      <td>0</td>\n",
       "      <td>2017.0</td>\n",
       "      <td>0</td>\n",
       "    </tr>\n",
       "    <tr>\n",
       "      <th>34289</th>\n",
       "      <td>id_4792</td>\n",
       "      <td>Paris</td>\n",
       "      <td>NaN</td>\n",
       "      <td>4793.0</td>\n",
       "      <td>NaN</td>\n",
       "      <td>34.0</td>\n",
       "      <td>[['Take away noodles: great!'], ['10/10/2015']]</td>\n",
       "      <td>/Restaurant_Review-g187147-d8547155-Reviews-Ma...</td>\n",
       "      <td>d8547155</td>\n",
       "      <td>1</td>\n",
       "      <td>4.0</td>\n",
       "      <td>5.0</td>\n",
       "      <td>0</td>\n",
       "      <td>2015.0</td>\n",
       "      <td>0</td>\n",
       "    </tr>\n",
       "    <tr>\n",
       "      <th>1149</th>\n",
       "      <td>id_1149</td>\n",
       "      <td>Bratislava</td>\n",
       "      <td>['Pub', 'Gastropub']</td>\n",
       "      <td>423.0</td>\n",
       "      <td>$$ - $$$</td>\n",
       "      <td>9.0</td>\n",
       "      <td>[['NEVER MISS! Try it !Great Beer and green s....</td>\n",
       "      <td>/Restaurant_Review-g274924-d6715733-Reviews-Ho...</td>\n",
       "      <td>d6715733</td>\n",
       "      <td>0</td>\n",
       "      <td>0.0</td>\n",
       "      <td>4.0</td>\n",
       "      <td>0</td>\n",
       "      <td>2016.0</td>\n",
       "      <td>0</td>\n",
       "    </tr>\n",
       "  </tbody>\n",
       "</table>\n",
       "</div>"
      ],
      "text/plain": [
       "      Restaurant_id        City  \\\n",
       "9382        id_9382      London   \n",
       "9276        id_9276       Paris   \n",
       "11028      id_16353      London   \n",
       "34289       id_4792       Paris   \n",
       "1149        id_1149  Bratislava   \n",
       "\n",
       "                                           Cuisine Style  Ranking Price Range  \\\n",
       "9382   ['Italian', 'Cafe', 'Mediterranean', 'European...   2080.0    $$ - $$$   \n",
       "9276                                                 NaN   8638.0         NaN   \n",
       "11028                             ['Fast Food', 'Halal']  16370.0         NaN   \n",
       "34289                                                NaN   4793.0         NaN   \n",
       "1149                                ['Pub', 'Gastropub']    423.0    $$ - $$$   \n",
       "\n",
       "       Number of Reviews                                            Reviews  \\\n",
       "9382                78.0  [['Great wine, Good food, good Italian atmosp....   \n",
       "9276                 4.0                                           [[], []]   \n",
       "11028                NaN           [['THE WINGS DISASTER'], ['05/18/2017']]   \n",
       "34289               34.0    [['Take away noodles: great!'], ['10/10/2015']]   \n",
       "1149                 9.0  [['NEVER MISS! Try it !Great Beer and green s....   \n",
       "\n",
       "                                                  URL_TA      ID_TA  sample  \\\n",
       "9382   /Restaurant_Review-g186338-d9709112-Reviews-Ca...   d9709112       0   \n",
       "9276   /Restaurant_Review-g187147-d12234886-Reviews-B...  d12234886       0   \n",
       "11028  /Restaurant_Review-g186338-d7274076-Reviews-Or...   d7274076       1   \n",
       "34289  /Restaurant_Review-g187147-d8547155-Reviews-Ma...   d8547155       1   \n",
       "1149   /Restaurant_Review-g274924-d6715733-Reviews-Ho...   d6715733       0   \n",
       "\n",
       "       Rating   wd  WDNAN    year  YNAN  \n",
       "9382      0.0  6.0      0  2017.0     0  \n",
       "9276      0.0  6.0      1  2017.0     1  \n",
       "11028     1.0  3.0      0  2017.0     0  \n",
       "34289     4.0  5.0      0  2015.0     0  \n",
       "1149      0.0  4.0      0  2016.0     0  "
      ]
     },
     "execution_count": 17,
     "metadata": {},
     "output_type": "execute_result"
    }
   ],
   "source": [
    "data.sample(5)"
   ]
  },
  {
   "cell_type": "markdown",
   "metadata": {},
   "source": [
    "Как видим, большинство признаков у нас требует очистки и предварительной обработки."
   ]
  },
  {
   "cell_type": "markdown",
   "metadata": {},
   "source": [
    "## 1. Обработка NAN \n",
    "У наличия пропусков могут быть разные причины, но пропуски нужно либо заполнить, либо исключить из набора полностью. Но с пропусками нужно быть внимательным, **даже отсутствие информации может быть важным признаком!**   \n",
    "По этому перед обработкой NAN лучше вынести информацию о наличии пропуска как отдельный признак "
   ]
  },
  {
   "cell_type": "code",
   "execution_count": 18,
   "metadata": {
    "execution": {
     "iopub.execute_input": "2021-08-11T18:01:17.842776Z",
     "iopub.status.busy": "2021-08-11T18:01:17.842327Z",
     "iopub.status.idle": "2021-08-11T18:01:17.848423Z",
     "shell.execute_reply": "2021-08-11T18:01:17.847683Z",
     "shell.execute_reply.started": "2021-08-11T18:01:17.84254Z"
    }
   },
   "outputs": [],
   "source": [
    "# Для примера я возьму столбец Number of Reviews\n",
    "data['Number_of_Reviews_isNAN'] = pd.isna(data['Number of Reviews']).astype('uint8')"
   ]
  },
  {
   "cell_type": "code",
   "execution_count": 19,
   "metadata": {
    "execution": {
     "iopub.execute_input": "2021-08-11T18:01:17.851517Z",
     "iopub.status.busy": "2021-08-11T18:01:17.851022Z",
     "iopub.status.idle": "2021-08-11T18:01:17.865578Z",
     "shell.execute_reply": "2021-08-11T18:01:17.86449Z",
     "shell.execute_reply.started": "2021-08-11T18:01:17.851474Z"
    }
   },
   "outputs": [
    {
     "data": {
      "text/plain": [
       "0        0\n",
       "1        0\n",
       "2        0\n",
       "3        0\n",
       "4        0\n",
       "        ..\n",
       "49995    0\n",
       "49996    0\n",
       "49997    0\n",
       "49998    0\n",
       "49999    0\n",
       "Name: Number_of_Reviews_isNAN, Length: 50000, dtype: uint8"
      ]
     },
     "execution_count": 19,
     "metadata": {},
     "output_type": "execute_result"
    }
   ],
   "source": [
    "data['Number_of_Reviews_isNAN']"
   ]
  },
  {
   "cell_type": "code",
   "execution_count": 20,
   "metadata": {
    "execution": {
     "iopub.execute_input": "2021-08-11T18:01:17.869488Z",
     "iopub.status.busy": "2021-08-11T18:01:17.86897Z",
     "iopub.status.idle": "2021-08-11T18:01:17.877749Z",
     "shell.execute_reply": "2021-08-11T18:01:17.876738Z",
     "shell.execute_reply.started": "2021-08-11T18:01:17.869285Z"
    }
   },
   "outputs": [],
   "source": [
    "# Далее заполняем пропуски 0\n",
    "data['Number of Reviews'].fillna(0, inplace=True)"
   ]
  },
  {
   "cell_type": "markdown",
   "metadata": {},
   "source": [
    "### 2. Обработка признаков\n",
    "Для начала посмотрим какие признаки у нас могут быть категориальными."
   ]
  },
  {
   "cell_type": "code",
   "execution_count": 21,
   "metadata": {
    "execution": {
     "iopub.execute_input": "2021-08-11T18:01:17.879629Z",
     "iopub.status.busy": "2021-08-11T18:01:17.879317Z",
     "iopub.status.idle": "2021-08-11T18:01:18.043995Z",
     "shell.execute_reply": "2021-08-11T18:01:18.042954Z",
     "shell.execute_reply.started": "2021-08-11T18:01:17.879573Z"
    }
   },
   "outputs": [
    {
     "data": {
      "text/plain": [
       "Restaurant_id              13094\n",
       "City                          31\n",
       "Cuisine Style              10732\n",
       "Ranking                    12975\n",
       "Price Range                    4\n",
       "Number of Reviews           1574\n",
       "Reviews                    41858\n",
       "URL_TA                     49963\n",
       "ID_TA                      49963\n",
       "sample                         2\n",
       "Rating                        10\n",
       "wd                             7\n",
       "WDNAN                          2\n",
       "year                          13\n",
       "YNAN                           2\n",
       "Number_of_Reviews_isNAN        2\n",
       "dtype: int64"
      ]
     },
     "execution_count": 21,
     "metadata": {},
     "output_type": "execute_result"
    }
   ],
   "source": [
    "data.nunique(dropna=False)"
   ]
  },
  {
   "cell_type": "markdown",
   "metadata": {},
   "source": [
    "Какие признаки можно считать категориальными?"
   ]
  },
  {
   "cell_type": "code",
   "execution_count": 22,
   "metadata": {
    "execution": {
     "iopub.execute_input": "2021-08-11T18:01:18.045924Z",
     "iopub.status.busy": "2021-08-11T18:01:18.045548Z",
     "iopub.status.idle": "2021-08-11T18:01:18.073403Z",
     "shell.execute_reply": "2021-08-11T18:01:18.072298Z",
     "shell.execute_reply.started": "2021-08-11T18:01:18.045856Z"
    }
   },
   "outputs": [
    {
     "data": {
      "text/html": [
       "<div>\n",
       "<style scoped>\n",
       "    .dataframe tbody tr th:only-of-type {\n",
       "        vertical-align: middle;\n",
       "    }\n",
       "\n",
       "    .dataframe tbody tr th {\n",
       "        vertical-align: top;\n",
       "    }\n",
       "\n",
       "    .dataframe thead th {\n",
       "        text-align: right;\n",
       "    }\n",
       "</style>\n",
       "<table border=\"1\" class=\"dataframe\">\n",
       "  <thead>\n",
       "    <tr style=\"text-align: right;\">\n",
       "      <th></th>\n",
       "      <th>Restaurant_id</th>\n",
       "      <th>City</th>\n",
       "      <th>Cuisine Style</th>\n",
       "      <th>Ranking</th>\n",
       "      <th>Price Range</th>\n",
       "      <th>Number of Reviews</th>\n",
       "      <th>Reviews</th>\n",
       "      <th>URL_TA</th>\n",
       "      <th>ID_TA</th>\n",
       "      <th>sample</th>\n",
       "      <th>Rating</th>\n",
       "      <th>wd</th>\n",
       "      <th>WDNAN</th>\n",
       "      <th>year</th>\n",
       "      <th>YNAN</th>\n",
       "      <th>Number_of_Reviews_isNAN</th>\n",
       "    </tr>\n",
       "  </thead>\n",
       "  <tbody>\n",
       "    <tr>\n",
       "      <th>43800</th>\n",
       "      <td>id_1740</td>\n",
       "      <td>Amsterdam</td>\n",
       "      <td>['Asian', 'Thai']</td>\n",
       "      <td>1745.0</td>\n",
       "      <td>$$ - $$$</td>\n",
       "      <td>30.0</td>\n",
       "      <td>[[\"Can't go wrong with this Thai\", 'Yummy Thai...</td>\n",
       "      <td>/Restaurant_Review-g188590-d10021431-Reviews-Y...</td>\n",
       "      <td>d10021431</td>\n",
       "      <td>1</td>\n",
       "      <td>3.5</td>\n",
       "      <td>6.0</td>\n",
       "      <td>0</td>\n",
       "      <td>2017.0</td>\n",
       "      <td>0</td>\n",
       "      <td>0</td>\n",
       "    </tr>\n",
       "    <tr>\n",
       "      <th>9131</th>\n",
       "      <td>id_9131</td>\n",
       "      <td>Paris</td>\n",
       "      <td>NaN</td>\n",
       "      <td>8519.0</td>\n",
       "      <td>NaN</td>\n",
       "      <td>3.0</td>\n",
       "      <td>[[], []]</td>\n",
       "      <td>/Restaurant_Review-g187147-d10760318-Reviews-A...</td>\n",
       "      <td>d10760318</td>\n",
       "      <td>0</td>\n",
       "      <td>0.0</td>\n",
       "      <td>6.0</td>\n",
       "      <td>1</td>\n",
       "      <td>2017.0</td>\n",
       "      <td>1</td>\n",
       "      <td>0</td>\n",
       "    </tr>\n",
       "    <tr>\n",
       "      <th>16568</th>\n",
       "      <td>id_1548</td>\n",
       "      <td>Hamburg</td>\n",
       "      <td>NaN</td>\n",
       "      <td>1550.0</td>\n",
       "      <td>NaN</td>\n",
       "      <td>12.0</td>\n",
       "      <td>[['Great location, good food', 'Ok, for our 1s...</td>\n",
       "      <td>/Restaurant_Review-g187331-d5822234-Reviews-Ab...</td>\n",
       "      <td>d5822234</td>\n",
       "      <td>1</td>\n",
       "      <td>3.5</td>\n",
       "      <td>4.0</td>\n",
       "      <td>0</td>\n",
       "      <td>2017.0</td>\n",
       "      <td>0</td>\n",
       "      <td>0</td>\n",
       "    </tr>\n",
       "    <tr>\n",
       "      <th>21999</th>\n",
       "      <td>id_345</td>\n",
       "      <td>Brussels</td>\n",
       "      <td>['European', 'International', 'Fusion', 'Veget...</td>\n",
       "      <td>346.0</td>\n",
       "      <td>$$ - $$$</td>\n",
       "      <td>135.0</td>\n",
       "      <td>[['Surprising', 'Outstanding food, so-so servi...</td>\n",
       "      <td>/Restaurant_Review-g188644-d1075887-Reviews-Ta...</td>\n",
       "      <td>d1075887</td>\n",
       "      <td>1</td>\n",
       "      <td>4.0</td>\n",
       "      <td>1.0</td>\n",
       "      <td>0</td>\n",
       "      <td>2017.0</td>\n",
       "      <td>0</td>\n",
       "      <td>0</td>\n",
       "    </tr>\n",
       "    <tr>\n",
       "      <th>42709</th>\n",
       "      <td>id_12</td>\n",
       "      <td>Athens</td>\n",
       "      <td>['Mediterranean', 'Greek', 'Vegetarian Friendl...</td>\n",
       "      <td>13.0</td>\n",
       "      <td>$$ - $$$</td>\n",
       "      <td>3392.0</td>\n",
       "      <td>[['Good value delicious food', 'Excellent New ...</td>\n",
       "      <td>/Restaurant_Review-g189400-d1151377-Reviews-Li...</td>\n",
       "      <td>d1151377</td>\n",
       "      <td>1</td>\n",
       "      <td>4.5</td>\n",
       "      <td>3.0</td>\n",
       "      <td>0</td>\n",
       "      <td>2018.0</td>\n",
       "      <td>0</td>\n",
       "      <td>0</td>\n",
       "    </tr>\n",
       "  </tbody>\n",
       "</table>\n",
       "</div>"
      ],
      "text/plain": [
       "      Restaurant_id       City  \\\n",
       "43800       id_1740  Amsterdam   \n",
       "9131        id_9131      Paris   \n",
       "16568       id_1548    Hamburg   \n",
       "21999        id_345   Brussels   \n",
       "42709         id_12     Athens   \n",
       "\n",
       "                                           Cuisine Style  Ranking Price Range  \\\n",
       "43800                                  ['Asian', 'Thai']   1745.0    $$ - $$$   \n",
       "9131                                                 NaN   8519.0         NaN   \n",
       "16568                                                NaN   1550.0         NaN   \n",
       "21999  ['European', 'International', 'Fusion', 'Veget...    346.0    $$ - $$$   \n",
       "42709  ['Mediterranean', 'Greek', 'Vegetarian Friendl...     13.0    $$ - $$$   \n",
       "\n",
       "       Number of Reviews                                            Reviews  \\\n",
       "43800               30.0  [[\"Can't go wrong with this Thai\", 'Yummy Thai...   \n",
       "9131                 3.0                                           [[], []]   \n",
       "16568               12.0  [['Great location, good food', 'Ok, for our 1s...   \n",
       "21999              135.0  [['Surprising', 'Outstanding food, so-so servi...   \n",
       "42709             3392.0  [['Good value delicious food', 'Excellent New ...   \n",
       "\n",
       "                                                  URL_TA      ID_TA  sample  \\\n",
       "43800  /Restaurant_Review-g188590-d10021431-Reviews-Y...  d10021431       1   \n",
       "9131   /Restaurant_Review-g187147-d10760318-Reviews-A...  d10760318       0   \n",
       "16568  /Restaurant_Review-g187331-d5822234-Reviews-Ab...   d5822234       1   \n",
       "21999  /Restaurant_Review-g188644-d1075887-Reviews-Ta...   d1075887       1   \n",
       "42709  /Restaurant_Review-g189400-d1151377-Reviews-Li...   d1151377       1   \n",
       "\n",
       "       Rating   wd  WDNAN    year  YNAN  Number_of_Reviews_isNAN  \n",
       "43800     3.5  6.0      0  2017.0     0                        0  \n",
       "9131      0.0  6.0      1  2017.0     1                        0  \n",
       "16568     3.5  4.0      0  2017.0     0                        0  \n",
       "21999     4.0  1.0      0  2017.0     0                        0  \n",
       "42709     4.5  3.0      0  2018.0     0                        0  "
      ]
     },
     "execution_count": 22,
     "metadata": {},
     "output_type": "execute_result"
    }
   ],
   "source": [
    "data.sample(5)"
   ]
  },
  {
   "cell_type": "code",
   "execution_count": 23,
   "metadata": {
    "execution": {
     "iopub.execute_input": "2021-08-11T18:01:18.076693Z",
     "iopub.status.busy": "2021-08-11T18:01:18.076271Z",
     "iopub.status.idle": "2021-08-11T18:01:18.111826Z",
     "shell.execute_reply": "2021-08-11T18:01:18.111139Z",
     "shell.execute_reply.started": "2021-08-11T18:01:18.076611Z"
    }
   },
   "outputs": [],
   "source": [
    "data = pd.get_dummies(data, columns=[ 'City',], dummy_na=True)"
   ]
  },
  {
   "cell_type": "code",
   "execution_count": 24,
   "metadata": {
    "execution": {
     "iopub.execute_input": "2021-08-11T18:01:18.113714Z",
     "iopub.status.busy": "2021-08-11T18:01:18.113265Z",
     "iopub.status.idle": "2021-08-11T18:01:18.155468Z",
     "shell.execute_reply": "2021-08-11T18:01:18.154431Z",
     "shell.execute_reply.started": "2021-08-11T18:01:18.113662Z"
    }
   },
   "outputs": [
    {
     "data": {
      "text/html": [
       "<div>\n",
       "<style scoped>\n",
       "    .dataframe tbody tr th:only-of-type {\n",
       "        vertical-align: middle;\n",
       "    }\n",
       "\n",
       "    .dataframe tbody tr th {\n",
       "        vertical-align: top;\n",
       "    }\n",
       "\n",
       "    .dataframe thead th {\n",
       "        text-align: right;\n",
       "    }\n",
       "</style>\n",
       "<table border=\"1\" class=\"dataframe\">\n",
       "  <thead>\n",
       "    <tr style=\"text-align: right;\">\n",
       "      <th></th>\n",
       "      <th>Restaurant_id</th>\n",
       "      <th>Cuisine Style</th>\n",
       "      <th>Ranking</th>\n",
       "      <th>Price Range</th>\n",
       "      <th>Number of Reviews</th>\n",
       "      <th>Reviews</th>\n",
       "      <th>URL_TA</th>\n",
       "      <th>ID_TA</th>\n",
       "      <th>sample</th>\n",
       "      <th>Rating</th>\n",
       "      <th>...</th>\n",
       "      <th>City_Oporto</th>\n",
       "      <th>City_Oslo</th>\n",
       "      <th>City_Paris</th>\n",
       "      <th>City_Prague</th>\n",
       "      <th>City_Rome</th>\n",
       "      <th>City_Stockholm</th>\n",
       "      <th>City_Vienna</th>\n",
       "      <th>City_Warsaw</th>\n",
       "      <th>City_Zurich</th>\n",
       "      <th>City_nan</th>\n",
       "    </tr>\n",
       "  </thead>\n",
       "  <tbody>\n",
       "    <tr>\n",
       "      <th>44670</th>\n",
       "      <td>id_3776</td>\n",
       "      <td>NaN</td>\n",
       "      <td>3785.0</td>\n",
       "      <td>NaN</td>\n",
       "      <td>2.0</td>\n",
       "      <td>[[], []]</td>\n",
       "      <td>/Restaurant_Review-g274707-d9730144-Reviews-Bo...</td>\n",
       "      <td>d9730144</td>\n",
       "      <td>1</td>\n",
       "      <td>3.0</td>\n",
       "      <td>...</td>\n",
       "      <td>0</td>\n",
       "      <td>0</td>\n",
       "      <td>0</td>\n",
       "      <td>1</td>\n",
       "      <td>0</td>\n",
       "      <td>0</td>\n",
       "      <td>0</td>\n",
       "      <td>0</td>\n",
       "      <td>0</td>\n",
       "      <td>0</td>\n",
       "    </tr>\n",
       "    <tr>\n",
       "      <th>49326</th>\n",
       "      <td>id_369</td>\n",
       "      <td>['Irish', 'Bar', 'Pub', 'Gastropub', 'Vegetari...</td>\n",
       "      <td>370.0</td>\n",
       "      <td>$$ - $$$</td>\n",
       "      <td>123.0</td>\n",
       "      <td>[['Classy Gastro Pub', 'Great Beer, Fare &amp; Vib...</td>\n",
       "      <td>/Restaurant_Review-g186605-d6833577-Reviews-57...</td>\n",
       "      <td>d6833577</td>\n",
       "      <td>1</td>\n",
       "      <td>4.5</td>\n",
       "      <td>...</td>\n",
       "      <td>0</td>\n",
       "      <td>0</td>\n",
       "      <td>0</td>\n",
       "      <td>0</td>\n",
       "      <td>0</td>\n",
       "      <td>0</td>\n",
       "      <td>0</td>\n",
       "      <td>0</td>\n",
       "      <td>0</td>\n",
       "      <td>0</td>\n",
       "    </tr>\n",
       "    <tr>\n",
       "      <th>18547</th>\n",
       "      <td>id_15081</td>\n",
       "      <td>['Fast Food']</td>\n",
       "      <td>15092.0</td>\n",
       "      <td>$</td>\n",
       "      <td>41.0</td>\n",
       "      <td>[['Not great', 'Cheaters'], ['06/14/2017', '11...</td>\n",
       "      <td>/Restaurant_Review-g186338-d7291424-Reviews-Bu...</td>\n",
       "      <td>d7291424</td>\n",
       "      <td>1</td>\n",
       "      <td>3.0</td>\n",
       "      <td>...</td>\n",
       "      <td>0</td>\n",
       "      <td>0</td>\n",
       "      <td>0</td>\n",
       "      <td>0</td>\n",
       "      <td>0</td>\n",
       "      <td>0</td>\n",
       "      <td>0</td>\n",
       "      <td>0</td>\n",
       "      <td>0</td>\n",
       "      <td>0</td>\n",
       "    </tr>\n",
       "    <tr>\n",
       "      <th>22061</th>\n",
       "      <td>id_957</td>\n",
       "      <td>['French', 'Dutch', 'Bar', 'European', 'Vegeta...</td>\n",
       "      <td>960.0</td>\n",
       "      <td>$$ - $$$</td>\n",
       "      <td>72.0</td>\n",
       "      <td>[['Delicious food!!!!', 'Really nice place for...</td>\n",
       "      <td>/Restaurant_Review-g188590-d8357740-Reviews-Sm...</td>\n",
       "      <td>d8357740</td>\n",
       "      <td>1</td>\n",
       "      <td>4.0</td>\n",
       "      <td>...</td>\n",
       "      <td>0</td>\n",
       "      <td>0</td>\n",
       "      <td>0</td>\n",
       "      <td>0</td>\n",
       "      <td>0</td>\n",
       "      <td>0</td>\n",
       "      <td>0</td>\n",
       "      <td>0</td>\n",
       "      <td>0</td>\n",
       "      <td>0</td>\n",
       "    </tr>\n",
       "    <tr>\n",
       "      <th>35347</th>\n",
       "      <td>id_12676</td>\n",
       "      <td>['Bar', 'Grill', 'Pub']</td>\n",
       "      <td>12686.0</td>\n",
       "      <td>NaN</td>\n",
       "      <td>0.0</td>\n",
       "      <td>[['Loved the Secret Garden'], ['08/06/2014']]</td>\n",
       "      <td>/Restaurant_Review-g186338-d1044115-Reviews-Fi...</td>\n",
       "      <td>d1044115</td>\n",
       "      <td>1</td>\n",
       "      <td>4.0</td>\n",
       "      <td>...</td>\n",
       "      <td>0</td>\n",
       "      <td>0</td>\n",
       "      <td>0</td>\n",
       "      <td>0</td>\n",
       "      <td>0</td>\n",
       "      <td>0</td>\n",
       "      <td>0</td>\n",
       "      <td>0</td>\n",
       "      <td>0</td>\n",
       "      <td>0</td>\n",
       "    </tr>\n",
       "  </tbody>\n",
       "</table>\n",
       "<p>5 rows × 47 columns</p>\n",
       "</div>"
      ],
      "text/plain": [
       "      Restaurant_id                                      Cuisine Style  \\\n",
       "44670       id_3776                                                NaN   \n",
       "49326        id_369  ['Irish', 'Bar', 'Pub', 'Gastropub', 'Vegetari...   \n",
       "18547      id_15081                                      ['Fast Food']   \n",
       "22061        id_957  ['French', 'Dutch', 'Bar', 'European', 'Vegeta...   \n",
       "35347      id_12676                            ['Bar', 'Grill', 'Pub']   \n",
       "\n",
       "       Ranking Price Range  Number of Reviews  \\\n",
       "44670   3785.0         NaN                2.0   \n",
       "49326    370.0    $$ - $$$              123.0   \n",
       "18547  15092.0           $               41.0   \n",
       "22061    960.0    $$ - $$$               72.0   \n",
       "35347  12686.0         NaN                0.0   \n",
       "\n",
       "                                                 Reviews  \\\n",
       "44670                                           [[], []]   \n",
       "49326  [['Classy Gastro Pub', 'Great Beer, Fare & Vib...   \n",
       "18547  [['Not great', 'Cheaters'], ['06/14/2017', '11...   \n",
       "22061  [['Delicious food!!!!', 'Really nice place for...   \n",
       "35347      [['Loved the Secret Garden'], ['08/06/2014']]   \n",
       "\n",
       "                                                  URL_TA     ID_TA  sample  \\\n",
       "44670  /Restaurant_Review-g274707-d9730144-Reviews-Bo...  d9730144       1   \n",
       "49326  /Restaurant_Review-g186605-d6833577-Reviews-57...  d6833577       1   \n",
       "18547  /Restaurant_Review-g186338-d7291424-Reviews-Bu...  d7291424       1   \n",
       "22061  /Restaurant_Review-g188590-d8357740-Reviews-Sm...  d8357740       1   \n",
       "35347  /Restaurant_Review-g186338-d1044115-Reviews-Fi...  d1044115       1   \n",
       "\n",
       "       Rating  ...  City_Oporto  City_Oslo  City_Paris  City_Prague  \\\n",
       "44670     3.0  ...            0          0           0            1   \n",
       "49326     4.5  ...            0          0           0            0   \n",
       "18547     3.0  ...            0          0           0            0   \n",
       "22061     4.0  ...            0          0           0            0   \n",
       "35347     4.0  ...            0          0           0            0   \n",
       "\n",
       "       City_Rome  City_Stockholm  City_Vienna  City_Warsaw  City_Zurich  \\\n",
       "44670          0               0            0            0            0   \n",
       "49326          0               0            0            0            0   \n",
       "18547          0               0            0            0            0   \n",
       "22061          0               0            0            0            0   \n",
       "35347          0               0            0            0            0   \n",
       "\n",
       "       City_nan  \n",
       "44670         0  \n",
       "49326         0  \n",
       "18547         0  \n",
       "22061         0  \n",
       "35347         0  \n",
       "\n",
       "[5 rows x 47 columns]"
      ]
     },
     "execution_count": 24,
     "metadata": {},
     "output_type": "execute_result"
    }
   ],
   "source": [
    "data.sample(5)"
   ]
  },
  {
   "cell_type": "markdown",
   "metadata": {},
   "source": [
    "#### Возьмем следующий признак \"Price Range\"."
   ]
  },
  {
   "cell_type": "code",
   "execution_count": 25,
   "metadata": {
    "execution": {
     "iopub.execute_input": "2021-08-11T18:01:18.157563Z",
     "iopub.status.busy": "2021-08-11T18:01:18.157188Z",
     "iopub.status.idle": "2021-08-11T18:01:18.177182Z",
     "shell.execute_reply": "2021-08-11T18:01:18.176139Z",
     "shell.execute_reply.started": "2021-08-11T18:01:18.157495Z"
    }
   },
   "outputs": [
    {
     "data": {
      "text/plain": [
       "$$ - $$$    23041\n",
       "$            7816\n",
       "$$$$         1782\n",
       "Name: Price Range, dtype: int64"
      ]
     },
     "execution_count": 25,
     "metadata": {},
     "output_type": "execute_result"
    }
   ],
   "source": [
    "data['Price Range'].value_counts()"
   ]
  },
  {
   "cell_type": "markdown",
   "metadata": {},
   "source": [
    "По описанию 'Price Range' это - Цены в ресторане.  \n",
    "Их можно поставить по возрастанию (значит это не категориальный признак). А это значит, что их можно заменить последовательными числами, например 1,2,3  \n",
    "*Попробуйте сделать обработку этого признака уже самостоятельно!*"
   ]
  },
  {
   "cell_type": "code",
   "execution_count": 26,
   "metadata": {
    "execution": {
     "iopub.execute_input": "2021-08-11T18:01:18.178971Z",
     "iopub.status.busy": "2021-08-11T18:01:18.178616Z",
     "iopub.status.idle": "2021-08-11T18:01:28.316784Z",
     "shell.execute_reply": "2021-08-11T18:01:28.31594Z",
     "shell.execute_reply.started": "2021-08-11T18:01:18.178919Z"
    }
   },
   "outputs": [
    {
     "name": "stderr",
     "output_type": "stream",
     "text": [
      "/opt/conda/lib/python3.6/site-packages/ipykernel_launcher.py:6: SettingWithCopyWarning: \n",
      "A value is trying to be set on a copy of a slice from a DataFrame\n",
      "\n",
      "See the caveats in the documentation: http://pandas.pydata.org/pandas-docs/stable/user_guide/indexing.html#returning-a-view-versus-a-copy\n",
      "  \n",
      "/opt/conda/lib/python3.6/site-packages/ipykernel_launcher.py:8: SettingWithCopyWarning: \n",
      "A value is trying to be set on a copy of a slice from a DataFrame\n",
      "\n",
      "See the caveats in the documentation: http://pandas.pydata.org/pandas-docs/stable/user_guide/indexing.html#returning-a-view-versus-a-copy\n",
      "  \n",
      "/opt/conda/lib/python3.6/site-packages/ipykernel_launcher.py:4: SettingWithCopyWarning: \n",
      "A value is trying to be set on a copy of a slice from a DataFrame\n",
      "\n",
      "See the caveats in the documentation: http://pandas.pydata.org/pandas-docs/stable/user_guide/indexing.html#returning-a-view-versus-a-copy\n",
      "  after removing the cwd from sys.path.\n"
     ]
    }
   ],
   "source": [
    "# Ваша обработка 'Price Range'\n",
    "for i in range(len(data['Price Range'])):\n",
    "    if data['Price Range'][i] == '$':\n",
    "        data['Price Range'][i]= 1\n",
    "    elif data['Price Range'][i]== '$$ - $$$':\n",
    "        data['Price Range'][i]=2\n",
    "    elif data['Price Range'][i]== '$$$$':\n",
    "        data['Price Range'][i]=3\n",
    "\n",
    "        \n",
    "#data['Price Range'] = data['Price Range'].fillna(data['Price Range'].mean())\n",
    "data['Price Range'] = data['Price Range'].fillna(data['Price Range'].mean())\n",
    "for i in range(len(data['Price Range'])):\n",
    "    if data['Price Range'][i] == 'Nan':\n",
    "        mn = data[data['City'] == data['City'][i]]['Price Range'].mean()\n",
    "        data['Price Range'][i] = mn"
   ]
  },
  {
   "cell_type": "code",
   "execution_count": 27,
   "metadata": {
    "execution": {
     "iopub.execute_input": "2021-08-11T18:01:28.319493Z",
     "iopub.status.busy": "2021-08-11T18:01:28.319124Z",
     "iopub.status.idle": "2021-08-11T18:01:28.33187Z",
     "shell.execute_reply": "2021-08-11T18:01:28.330812Z",
     "shell.execute_reply.started": "2021-08-11T18:01:28.319425Z"
    }
   },
   "outputs": [
    {
     "data": {
      "text/plain": [
       "2.000000    23041\n",
       "1.815129    17361\n",
       "1.000000     7816\n",
       "3.000000     1782\n",
       "Name: Price Range, dtype: int64"
      ]
     },
     "execution_count": 27,
     "metadata": {},
     "output_type": "execute_result"
    }
   ],
   "source": [
    "data['Price Range'].value_counts()"
   ]
  },
  {
   "cell_type": "markdown",
   "metadata": {},
   "source": [
    "> Для некоторых алгоритмов МЛ даже для не категориальных признаков можно применить One-Hot Encoding, и это может улучшить качество модели. Пробуйте разные подходы к кодированию признака - никто не знает заранее, что может взлететь."
   ]
  },
  {
   "cell_type": "code",
   "execution_count": 28,
   "metadata": {
    "execution": {
     "iopub.execute_input": "2021-08-11T18:01:28.334012Z",
     "iopub.status.busy": "2021-08-11T18:01:28.333617Z",
     "iopub.status.idle": "2021-08-11T18:02:16.51657Z",
     "shell.execute_reply": "2021-08-11T18:02:16.515738Z",
     "shell.execute_reply.started": "2021-08-11T18:01:28.333947Z"
    }
   },
   "outputs": [
    {
     "name": "stderr",
     "output_type": "stream",
     "text": [
      "/opt/conda/lib/python3.6/site-packages/ipykernel_launcher.py:3: SettingWithCopyWarning: \n",
      "A value is trying to be set on a copy of a slice from a DataFrame\n",
      "\n",
      "See the caveats in the documentation: http://pandas.pydata.org/pandas-docs/stable/user_guide/indexing.html#returning-a-view-versus-a-copy\n",
      "  This is separate from the ipykernel package so we can avoid doing imports until\n",
      "/opt/conda/lib/python3.6/site-packages/ipykernel_launcher.py:4: SettingWithCopyWarning: \n",
      "A value is trying to be set on a copy of a slice from a DataFrame\n",
      "\n",
      "See the caveats in the documentation: http://pandas.pydata.org/pandas-docs/stable/user_guide/indexing.html#returning-a-view-versus-a-copy\n",
      "  after removing the cwd from sys.path.\n",
      "/opt/conda/lib/python3.6/site-packages/ipykernel_launcher.py:5: SettingWithCopyWarning: \n",
      "A value is trying to be set on a copy of a slice from a DataFrame\n",
      "\n",
      "See the caveats in the documentation: http://pandas.pydata.org/pandas-docs/stable/user_guide/indexing.html#returning-a-view-versus-a-copy\n",
      "  \"\"\"\n"
     ]
    }
   ],
   "source": [
    "# кухня\n",
    "for i in range(len(data['Cuisine Style'])):\n",
    "    data['Cuisine Style'][i] = str(data['Cuisine Style'][i]).replace(\"[\", \"\")\n",
    "    data['Cuisine Style'][i] = str(data['Cuisine Style'][i]).replace(\"]\", \"\")\n",
    "    data['Cuisine Style'][i] = str(data['Cuisine Style'][i]).replace(\" \", \"\")"
   ]
  },
  {
   "cell_type": "code",
   "execution_count": 29,
   "metadata": {
    "execution": {
     "iopub.execute_input": "2021-08-11T18:02:16.518418Z",
     "iopub.status.busy": "2021-08-11T18:02:16.51796Z",
     "iopub.status.idle": "2021-08-11T18:02:16.542748Z",
     "shell.execute_reply": "2021-08-11T18:02:16.542127Z",
     "shell.execute_reply.started": "2021-08-11T18:02:16.518378Z"
    }
   },
   "outputs": [
    {
     "data": {
      "text/html": [
       "<div>\n",
       "<style scoped>\n",
       "    .dataframe tbody tr th:only-of-type {\n",
       "        vertical-align: middle;\n",
       "    }\n",
       "\n",
       "    .dataframe tbody tr th {\n",
       "        vertical-align: top;\n",
       "    }\n",
       "\n",
       "    .dataframe thead th {\n",
       "        text-align: right;\n",
       "    }\n",
       "</style>\n",
       "<table border=\"1\" class=\"dataframe\">\n",
       "  <thead>\n",
       "    <tr style=\"text-align: right;\">\n",
       "      <th></th>\n",
       "      <th>Restaurant_id</th>\n",
       "      <th>Cuisine Style</th>\n",
       "      <th>Ranking</th>\n",
       "      <th>Price Range</th>\n",
       "      <th>Number of Reviews</th>\n",
       "      <th>Reviews</th>\n",
       "      <th>URL_TA</th>\n",
       "      <th>ID_TA</th>\n",
       "      <th>sample</th>\n",
       "      <th>Rating</th>\n",
       "      <th>...</th>\n",
       "      <th>City_Oporto</th>\n",
       "      <th>City_Oslo</th>\n",
       "      <th>City_Paris</th>\n",
       "      <th>City_Prague</th>\n",
       "      <th>City_Rome</th>\n",
       "      <th>City_Stockholm</th>\n",
       "      <th>City_Vienna</th>\n",
       "      <th>City_Warsaw</th>\n",
       "      <th>City_Zurich</th>\n",
       "      <th>City_nan</th>\n",
       "    </tr>\n",
       "  </thead>\n",
       "  <tbody>\n",
       "    <tr>\n",
       "      <th>0</th>\n",
       "      <td>id_0</td>\n",
       "      <td>'Bar','Pub'</td>\n",
       "      <td>12963.0</td>\n",
       "      <td>2.0</td>\n",
       "      <td>4.0</td>\n",
       "      <td>[[], []]</td>\n",
       "      <td>/Restaurant_Review-g187147-d10746918-Reviews-L...</td>\n",
       "      <td>d10746918</td>\n",
       "      <td>0</td>\n",
       "      <td>0.0</td>\n",
       "      <td>...</td>\n",
       "      <td>0</td>\n",
       "      <td>0</td>\n",
       "      <td>1</td>\n",
       "      <td>0</td>\n",
       "      <td>0</td>\n",
       "      <td>0</td>\n",
       "      <td>0</td>\n",
       "      <td>0</td>\n",
       "      <td>0</td>\n",
       "      <td>0</td>\n",
       "    </tr>\n",
       "    <tr>\n",
       "      <th>1</th>\n",
       "      <td>id_1</td>\n",
       "      <td>'European','Scandinavian','GlutenFreeOptions',...</td>\n",
       "      <td>106.0</td>\n",
       "      <td>2.0</td>\n",
       "      <td>97.0</td>\n",
       "      <td>[['Very good reviews!', 'Fine dining in Hakani...</td>\n",
       "      <td>/Restaurant_Review-g189934-d6674944-Reviews-Ra...</td>\n",
       "      <td>d6674944</td>\n",
       "      <td>0</td>\n",
       "      <td>0.0</td>\n",
       "      <td>...</td>\n",
       "      <td>0</td>\n",
       "      <td>0</td>\n",
       "      <td>0</td>\n",
       "      <td>0</td>\n",
       "      <td>0</td>\n",
       "      <td>0</td>\n",
       "      <td>0</td>\n",
       "      <td>0</td>\n",
       "      <td>0</td>\n",
       "      <td>0</td>\n",
       "    </tr>\n",
       "  </tbody>\n",
       "</table>\n",
       "<p>2 rows × 47 columns</p>\n",
       "</div>"
      ],
      "text/plain": [
       "  Restaurant_id                                      Cuisine Style  Ranking  \\\n",
       "0          id_0                                        'Bar','Pub'  12963.0   \n",
       "1          id_1  'European','Scandinavian','GlutenFreeOptions',...    106.0   \n",
       "\n",
       "   Price Range  Number of Reviews  \\\n",
       "0          2.0                4.0   \n",
       "1          2.0               97.0   \n",
       "\n",
       "                                             Reviews  \\\n",
       "0                                           [[], []]   \n",
       "1  [['Very good reviews!', 'Fine dining in Hakani...   \n",
       "\n",
       "                                              URL_TA      ID_TA  sample  \\\n",
       "0  /Restaurant_Review-g187147-d10746918-Reviews-L...  d10746918       0   \n",
       "1  /Restaurant_Review-g189934-d6674944-Reviews-Ra...   d6674944       0   \n",
       "\n",
       "   Rating  ...  City_Oporto  City_Oslo  City_Paris  City_Prague  City_Rome  \\\n",
       "0     0.0  ...            0          0           1            0          0   \n",
       "1     0.0  ...            0          0           0            0          0   \n",
       "\n",
       "   City_Stockholm  City_Vienna  City_Warsaw  City_Zurich  City_nan  \n",
       "0               0            0            0            0         0  \n",
       "1               0            0            0            0         0  \n",
       "\n",
       "[2 rows x 47 columns]"
      ]
     },
     "execution_count": 29,
     "metadata": {},
     "output_type": "execute_result"
    }
   ],
   "source": [
    "data.head(2)"
   ]
  },
  {
   "cell_type": "markdown",
   "metadata": {},
   "source": [
    "### Посмотрим распределение признака"
   ]
  },
  {
   "cell_type": "code",
   "execution_count": 30,
   "metadata": {
    "execution": {
     "iopub.execute_input": "2021-08-11T18:02:16.544444Z",
     "iopub.status.busy": "2021-08-11T18:02:16.544004Z",
     "iopub.status.idle": "2021-08-11T18:02:17.022116Z",
     "shell.execute_reply": "2021-08-11T18:02:17.021234Z",
     "shell.execute_reply.started": "2021-08-11T18:02:16.5444Z"
    }
   },
   "outputs": [
    {
     "data": {
      "text/plain": [
       "<matplotlib.axes._subplots.AxesSubplot at 0x7ff8953cdf98>"
      ]
     },
     "execution_count": 30,
     "metadata": {},
     "output_type": "execute_result"
    },
    {
     "data": {
      "image/png": "[encoded data removed]",
      "text/plain": [
       "<Figure size 720x504 with 1 Axes>"
      ]
     },
     "metadata": {
      "needs_background": "light"
     },
     "output_type": "display_data"
    }
   ],
   "source": [
    "plt.rcParams['figure.figsize'] = (10,7)\n",
    "df_train['Ranking'].hist(bins=100)"
   ]
  },
  {
   "cell_type": "markdown",
   "metadata": {},
   "source": [
    "У нас много ресторанов, которые не дотягивают и до 2500 места в своем городе, а что там по городам?"
   ]
  },
  {
   "cell_type": "code",
   "execution_count": 31,
   "metadata": {
    "execution": {
     "iopub.execute_input": "2021-08-11T18:02:17.024083Z",
     "iopub.status.busy": "2021-08-11T18:02:17.023736Z",
     "iopub.status.idle": "2021-08-11T18:02:17.387818Z",
     "shell.execute_reply": "2021-08-11T18:02:17.387148Z",
     "shell.execute_reply.started": "2021-08-11T18:02:17.024011Z"
    }
   },
   "outputs": [
    {
     "data": {
      "text/plain": [
       "<matplotlib.axes._subplots.AxesSubplot at 0x7ff87c064550>"
      ]
     },
     "execution_count": 31,
     "metadata": {},
     "output_type": "execute_result"
    },
    {
     "data": {
      "image/png": "[encoded data removed]",
      "text/plain": [
       "<Figure size 720x504 with 1 Axes>"
      ]
     },
     "metadata": {
      "needs_background": "light"
     },
     "output_type": "display_data"
    }
   ],
   "source": [
    "df_train['City'].value_counts(ascending=True).plot(kind='barh')"
   ]
  },
  {
   "cell_type": "markdown",
   "metadata": {},
   "source": [
    "А кто-то говорил, что французы любят поесть=) Посмотрим, как изменится распределение в большом городе:"
   ]
  },
  {
   "cell_type": "code",
   "execution_count": 32,
   "metadata": {
    "execution": {
     "iopub.execute_input": "2021-08-11T18:02:17.38967Z",
     "iopub.status.busy": "2021-08-11T18:02:17.389115Z",
     "iopub.status.idle": "2021-08-11T18:02:17.921214Z",
     "shell.execute_reply": "2021-08-11T18:02:17.920197Z",
     "shell.execute_reply.started": "2021-08-11T18:02:17.389467Z"
    }
   },
   "outputs": [
    {
     "data": {
      "text/plain": [
       "<matplotlib.axes._subplots.AxesSubplot at 0x7ff87bf79438>"
      ]
     },
     "execution_count": 32,
     "metadata": {},
     "output_type": "execute_result"
    },
    {
     "data": {
      "image/png": "[encoded data removed]",
      "text/plain": [
       "<Figure size 720x504 with 1 Axes>"
      ]
     },
     "metadata": {
      "needs_background": "light"
     },
     "output_type": "display_data"
    }
   ],
   "source": [
    "df_train['Ranking'][df_train['City'] =='London'].hist(bins=100)"
   ]
  },
  {
   "cell_type": "code",
   "execution_count": 33,
   "metadata": {
    "execution": {
     "iopub.execute_input": "2021-08-11T18:02:17.923562Z",
     "iopub.status.busy": "2021-08-11T18:02:17.922979Z",
     "iopub.status.idle": "2021-08-11T18:02:20.683568Z",
     "shell.execute_reply": "2021-08-11T18:02:20.682497Z",
     "shell.execute_reply.started": "2021-08-11T18:02:17.923494Z"
    }
   },
   "outputs": [
    {
     "data": {
      "image/png": "[encoded data removed]",
      "text/plain": [
       "<Figure size 720x504 with 1 Axes>"
      ]
     },
     "metadata": {
      "needs_background": "light"
     },
     "output_type": "display_data"
    }
   ],
   "source": [
    "# посмотрим на топ 10 городов\n",
    "for x in (df_train['City'].value_counts())[0:10].index:\n",
    "    df_train['Ranking'][df_train['City'] == x].hist(bins=100)\n",
    "plt.show()"
   ]
  },
  {
   "cell_type": "markdown",
   "metadata": {},
   "source": [
    "Получается, что Ranking имеет нормальное распределение, просто в больших городах больше ресторанов, из-за мы этого имеем смещение.\n"
   ]
  },
  {
   "cell_type": "markdown",
   "metadata": {},
   "source": [
    "### Посмотрим распределение целевой переменной"
   ]
  },
  {
   "cell_type": "code",
   "execution_count": 34,
   "metadata": {
    "execution": {
     "iopub.execute_input": "2021-08-11T18:02:20.686025Z",
     "iopub.status.busy": "2021-08-11T18:02:20.685331Z",
     "iopub.status.idle": "2021-08-11T18:02:20.980801Z",
     "shell.execute_reply": "2021-08-11T18:02:20.979624Z",
     "shell.execute_reply.started": "2021-08-11T18:02:20.685949Z"
    }
   },
   "outputs": [
    {
     "data": {
      "text/plain": [
       "<matplotlib.axes._subplots.AxesSubplot at 0x7ff87bde36d8>"
      ]
     },
     "execution_count": 34,
     "metadata": {},
     "output_type": "execute_result"
    },
    {
     "data": {
      "image/png": "[encoded data removed]",
      "text/plain": [
       "<Figure size 720x504 with 1 Axes>"
      ]
     },
     "metadata": {
      "needs_background": "light"
     },
     "output_type": "display_data"
    }
   ],
   "source": [
    "df_train['Rating'].value_counts(ascending=True).plot(kind='barh')"
   ]
  },
  {
   "cell_type": "markdown",
   "metadata": {},
   "source": [
    "### Посмотрим распределение целевой переменной относительно признака"
   ]
  },
  {
   "cell_type": "code",
   "execution_count": 35,
   "metadata": {
    "execution": {
     "iopub.execute_input": "2021-08-11T18:02:20.983346Z",
     "iopub.status.busy": "2021-08-11T18:02:20.982763Z",
     "iopub.status.idle": "2021-08-11T18:02:21.510058Z",
     "shell.execute_reply": "2021-08-11T18:02:21.50881Z",
     "shell.execute_reply.started": "2021-08-11T18:02:20.983096Z"
    }
   },
   "outputs": [
    {
     "data": {
      "text/plain": [
       "<matplotlib.axes._subplots.AxesSubplot at 0x7ff878db7278>"
      ]
     },
     "execution_count": 35,
     "metadata": {},
     "output_type": "execute_result"
    },
    {
     "data": {
      "image/png": "[encoded data removed]",
      "text/plain": [
       "<Figure size 720x504 with 1 Axes>"
      ]
     },
     "metadata": {
      "needs_background": "light"
     },
     "output_type": "display_data"
    }
   ],
   "source": [
    "df_train['Ranking'][df_train['Rating'] == 5].hist(bins=100)"
   ]
  },
  {
   "cell_type": "code",
   "execution_count": 36,
   "metadata": {
    "execution": {
     "iopub.execute_input": "2021-08-11T18:02:21.512526Z",
     "iopub.status.busy": "2021-08-11T18:02:21.511972Z",
     "iopub.status.idle": "2021-08-11T18:02:22.037394Z",
     "shell.execute_reply": "2021-08-11T18:02:22.036012Z",
     "shell.execute_reply.started": "2021-08-11T18:02:21.51231Z"
    }
   },
   "outputs": [
    {
     "data": {
      "text/plain": [
       "<matplotlib.axes._subplots.AxesSubplot at 0x7ff878da4550>"
      ]
     },
     "execution_count": 36,
     "metadata": {},
     "output_type": "execute_result"
    },
    {
     "data": {
      "image/png": "[encoded data removed]",
      "text/plain": [
       "<Figure size 720x504 with 1 Axes>"
      ]
     },
     "metadata": {
      "needs_background": "light"
     },
     "output_type": "display_data"
    }
   ],
   "source": [
    "df_train['Ranking'][df_train['Rating'] < 4].hist(bins=100)"
   ]
  },
  {
   "cell_type": "markdown",
   "metadata": {},
   "source": [
    "### [корреляция признаков](https://ru.wikipedia.org/wiki/Корреляция)\n",
    "На этом графике уже сейчас вы сможете заметить, как признаки связаны между собой и с целевой переменной."
   ]
  },
  {
   "cell_type": "code",
   "execution_count": 37,
   "metadata": {
    "execution": {
     "iopub.execute_input": "2021-08-11T18:02:22.039922Z",
     "iopub.status.busy": "2021-08-11T18:02:22.039344Z",
     "iopub.status.idle": "2021-08-11T18:02:23.557926Z",
     "shell.execute_reply": "2021-08-11T18:02:23.55725Z",
     "shell.execute_reply.started": "2021-08-11T18:02:22.039684Z"
    }
   },
   "outputs": [
    {
     "data": {
      "text/plain": [
       "<matplotlib.axes._subplots.AxesSubplot at 0x7ff878adaf98>"
      ]
     },
     "execution_count": 37,
     "metadata": {},
     "output_type": "execute_result"
    },
    {
     "data": {
      "image/png": "[encoded data removed]",
      "text/plain": [
       "<Figure size 1080x720 with 2 Axes>"
      ]
     },
     "metadata": {
      "needs_background": "light"
     },
     "output_type": "display_data"
    }
   ],
   "source": [
    "plt.rcParams['figure.figsize'] = (15,10)\n",
    "sns.heatmap(data.drop(['sample'], axis=1).corr(),)"
   ]
  },
  {
   "cell_type": "markdown",
   "metadata": {},
   "source": [
    "# Data Preprocessing\n",
    "Теперь, для удобства и воспроизводимости кода, завернем всю обработку в одну большую функцию."
   ]
  },
  {
   "cell_type": "code",
   "execution_count": 38,
   "metadata": {
    "execution": {
     "iopub.execute_input": "2021-08-11T18:02:23.560399Z",
     "iopub.status.busy": "2021-08-11T18:02:23.559779Z",
     "iopub.status.idle": "2021-08-11T18:02:23.906262Z",
     "shell.execute_reply": "2021-08-11T18:02:23.905357Z",
     "shell.execute_reply.started": "2021-08-11T18:02:23.560336Z"
    }
   },
   "outputs": [
    {
     "name": "stdout",
     "output_type": "stream",
     "text": [
      "<class 'pandas.core.frame.DataFrame'>\n",
      "RangeIndex: 50000 entries, 0 to 49999\n",
      "Data columns (total 11 columns):\n",
      "Restaurant_id        50000 non-null object\n",
      "City                 50000 non-null object\n",
      "Cuisine Style        38410 non-null object\n",
      "Ranking              50000 non-null float64\n",
      "Price Range          32639 non-null object\n",
      "Number of Reviews    46800 non-null float64\n",
      "Reviews              49998 non-null object\n",
      "URL_TA               50000 non-null object\n",
      "ID_TA                50000 non-null object\n",
      "sample               50000 non-null int64\n",
      "Rating               50000 non-null float64\n",
      "dtypes: float64(3), int64(1), object(7)\n",
      "memory usage: 4.2+ MB\n"
     ]
    }
   ],
   "source": [
    "# на всякий случай, заново подгружаем данные\n",
    "df_train = pd.read_csv(DATA_DIR+'/main_task.csv')\n",
    "df_test = pd.read_csv(DATA_DIR+'/kaggle_task.csv')\n",
    "df_train['sample'] = 1 # помечаем где у нас трейн\n",
    "df_test['sample'] = 0 # помечаем где у нас тест\n",
    "df_test['Rating'] = 0 # в тесте у нас нет значения Rating, мы его должны предсказать, по этому пока просто заполняем нулями\n",
    "\n",
    "data = df_test.append(df_train, sort=False).reset_index(drop=True) # объединяем\n",
    "data.info()"
   ]
  },
  {
   "cell_type": "code",
   "execution_count": 39,
   "metadata": {
    "execution": {
     "iopub.execute_input": "2021-08-11T18:02:23.907743Z",
     "iopub.status.busy": "2021-08-11T18:02:23.90749Z",
     "iopub.status.idle": "2021-08-11T18:02:23.928161Z",
     "shell.execute_reply": "2021-08-11T18:02:23.927019Z",
     "shell.execute_reply.started": "2021-08-11T18:02:23.907701Z"
    }
   },
   "outputs": [],
   "source": [
    "def preproc_data(df_input):\n",
    "    '''includes several functions to pre-process the predictor data.'''\n",
    "    \n",
    "    df_output = df_input.copy()\n",
    "    \n",
    "    # 1. Предобработка\n",
    "    # убираем ненужные для модели признаки\n",
    "    df_output.drop(['Restaurant_id','ID_TA',], axis = 1, inplace=True)\n",
    "    \n",
    "    \n",
    "    # 2. NAN\n",
    "    # Далее заполняем пропуски\n",
    "    df_output['Number of Reviews'].fillna(0, inplace=True)\n",
    "    #'Price Range'\n",
    "    for i in range(len(df_output['Price Range'])):\n",
    "        if df_output['Price Range'][i] == '$':\n",
    "            df_output['Price Range'][i]= 1\n",
    "        elif df_output['Price Range'][i]== '$$ - $$$':\n",
    "            df_output['Price Range'][i]=2\n",
    "        elif df_output['Price Range'][i]== '$$$$':\n",
    "            df_output['Price Range'][i]=3\n",
    "    df_output['Price Range'] = df_output['Price Range'].fillna(df_output['Price Range'].mean())\n",
    "    for i in range(len(df_output['Price Range'])):\n",
    "        if df_output['Price Range'][i] == 'NaN':\n",
    "            mn = df_output[data['City'] == df_output['City'][i]]['Price Range'].mean()\n",
    "            df_output['Price Range'][i] = mn\n",
    "            \n",
    "    # делаем ранги внутри городов, а не только всеобщие\n",
    "    \n",
    "    df_output['rank_for_city'] = 0\n",
    "    df_output['rank_for_city']=df_output['rank_for_city'].astype(np.float64)\n",
    "    for i in range(len(df_output['City'])):\n",
    "        col = len(df_output[df_output.City == df_output.City[i]])\n",
    "        df_output['rank_for_city'][i] = float(df_output['Ranking'][i]) / float(col)\n",
    "        \n",
    "    # код не Encoding фитчей. я переместил этот блок выше\n",
    "    data2 = data_make(df_output, 'Reviews')\n",
    "    data3 = DoW(data2)\n",
    "    df_output['wd']=data3\n",
    "    df_output['WDNAN'] = pd.isna(df_output['wd']).astype('uint8')\n",
    "    df_output.wd = df_output.wd.fillna(df_output.wd.value_counts().index[0])\n",
    "    dataY = year(data2)\n",
    "    df_output['year']= dataY\n",
    "    df_output['YNAN'] = pd.isna(df_output['year']).astype('uint8')\n",
    "    df_output.year = df_output.year.fillna(df_output.year.value_counts().index[0])\n",
    "    \n",
    "    # 3. Encoding \n",
    "    # для One-Hot Encoding в pandas есть готовая функция - get_dummies. Особенно радует параметр dummy_na\n",
    "    df_output = pd.get_dummies(df_output, columns=[ 'City',], dummy_na=True)\n",
    "\n",
    "    \n",
    "    \n",
    "    # 4. Feature Engineering\n",
    "    # тут ваш код не генерацию новых фитчей\n",
    "    # ....\n",
    "    \n",
    "    \n",
    "    # 5. Clean\n",
    "    # убираем признаки которые еще не успели обработать, \n",
    "    # модель на признаках с dtypes \"object\" обучаться не будет, просто выберим их и удалим\n",
    "    object_columns = [s for s in df_output.columns if df_output[s].dtypes == 'object']\n",
    "    df_output.drop(object_columns, axis = 1, inplace=True)\n",
    "    \n",
    "    return df_output"
   ]
  },
  {
   "cell_type": "markdown",
   "metadata": {},
   "source": [
    "#### Запускаем и проверяем что получилось"
   ]
  },
  {
   "cell_type": "code",
   "execution_count": 40,
   "metadata": {
    "execution": {
     "iopub.execute_input": "2021-08-11T18:02:23.929869Z",
     "iopub.status.busy": "2021-08-11T18:02:23.929579Z",
     "iopub.status.idle": "2021-08-11T18:10:10.652992Z",
     "shell.execute_reply": "2021-08-11T18:10:10.651962Z",
     "shell.execute_reply.started": "2021-08-11T18:02:23.929826Z"
    }
   },
   "outputs": [
    {
     "name": "stderr",
     "output_type": "stream",
     "text": [
      "/opt/conda/lib/python3.6/site-packages/ipykernel_launcher.py:19: SettingWithCopyWarning: \n",
      "A value is trying to be set on a copy of a slice from a DataFrame\n",
      "\n",
      "See the caveats in the documentation: http://pandas.pydata.org/pandas-docs/stable/user_guide/indexing.html#returning-a-view-versus-a-copy\n",
      "/opt/conda/lib/python3.6/site-packages/ipykernel_launcher.py:21: SettingWithCopyWarning: \n",
      "A value is trying to be set on a copy of a slice from a DataFrame\n",
      "\n",
      "See the caveats in the documentation: http://pandas.pydata.org/pandas-docs/stable/user_guide/indexing.html#returning-a-view-versus-a-copy\n",
      "/opt/conda/lib/python3.6/site-packages/ipykernel_launcher.py:17: SettingWithCopyWarning: \n",
      "A value is trying to be set on a copy of a slice from a DataFrame\n",
      "\n",
      "See the caveats in the documentation: http://pandas.pydata.org/pandas-docs/stable/user_guide/indexing.html#returning-a-view-versus-a-copy\n",
      "/opt/conda/lib/python3.6/site-packages/ipykernel_launcher.py:34: SettingWithCopyWarning: \n",
      "A value is trying to be set on a copy of a slice from a DataFrame\n",
      "\n",
      "See the caveats in the documentation: http://pandas.pydata.org/pandas-docs/stable/user_guide/indexing.html#returning-a-view-versus-a-copy\n"
     ]
    },
    {
     "data": {
      "text/html": [
       "<div>\n",
       "<style scoped>\n",
       "    .dataframe tbody tr th:only-of-type {\n",
       "        vertical-align: middle;\n",
       "    }\n",
       "\n",
       "    .dataframe tbody tr th {\n",
       "        vertical-align: top;\n",
       "    }\n",
       "\n",
       "    .dataframe thead th {\n",
       "        text-align: right;\n",
       "    }\n",
       "</style>\n",
       "<table border=\"1\" class=\"dataframe\">\n",
       "  <thead>\n",
       "    <tr style=\"text-align: right;\">\n",
       "      <th></th>\n",
       "      <th>Ranking</th>\n",
       "      <th>Price Range</th>\n",
       "      <th>Number of Reviews</th>\n",
       "      <th>sample</th>\n",
       "      <th>Rating</th>\n",
       "      <th>rank_for_city</th>\n",
       "      <th>wd</th>\n",
       "      <th>WDNAN</th>\n",
       "      <th>year</th>\n",
       "      <th>YNAN</th>\n",
       "      <th>...</th>\n",
       "      <th>City_Oporto</th>\n",
       "      <th>City_Oslo</th>\n",
       "      <th>City_Paris</th>\n",
       "      <th>City_Prague</th>\n",
       "      <th>City_Rome</th>\n",
       "      <th>City_Stockholm</th>\n",
       "      <th>City_Vienna</th>\n",
       "      <th>City_Warsaw</th>\n",
       "      <th>City_Zurich</th>\n",
       "      <th>City_nan</th>\n",
       "    </tr>\n",
       "  </thead>\n",
       "  <tbody>\n",
       "    <tr>\n",
       "      <th>10469</th>\n",
       "      <td>7424.0</td>\n",
       "      <td>1.815129</td>\n",
       "      <td>44.0</td>\n",
       "      <td>1</td>\n",
       "      <td>2.5</td>\n",
       "      <td>2.186745</td>\n",
       "      <td>6.0</td>\n",
       "      <td>0</td>\n",
       "      <td>2014.0</td>\n",
       "      <td>0</td>\n",
       "      <td>...</td>\n",
       "      <td>0</td>\n",
       "      <td>0</td>\n",
       "      <td>0</td>\n",
       "      <td>0</td>\n",
       "      <td>0</td>\n",
       "      <td>0</td>\n",
       "      <td>0</td>\n",
       "      <td>0</td>\n",
       "      <td>0</td>\n",
       "      <td>0</td>\n",
       "    </tr>\n",
       "    <tr>\n",
       "      <th>5811</th>\n",
       "      <td>798.0</td>\n",
       "      <td>2.000000</td>\n",
       "      <td>486.0</td>\n",
       "      <td>0</td>\n",
       "      <td>0.0</td>\n",
       "      <td>0.308227</td>\n",
       "      <td>2.0</td>\n",
       "      <td>0</td>\n",
       "      <td>2017.0</td>\n",
       "      <td>0</td>\n",
       "      <td>...</td>\n",
       "      <td>0</td>\n",
       "      <td>0</td>\n",
       "      <td>0</td>\n",
       "      <td>0</td>\n",
       "      <td>1</td>\n",
       "      <td>0</td>\n",
       "      <td>0</td>\n",
       "      <td>0</td>\n",
       "      <td>0</td>\n",
       "      <td>0</td>\n",
       "    </tr>\n",
       "    <tr>\n",
       "      <th>1979</th>\n",
       "      <td>1540.0</td>\n",
       "      <td>2.000000</td>\n",
       "      <td>373.0</td>\n",
       "      <td>0</td>\n",
       "      <td>0.0</td>\n",
       "      <td>0.594824</td>\n",
       "      <td>3.0</td>\n",
       "      <td>0</td>\n",
       "      <td>2017.0</td>\n",
       "      <td>0</td>\n",
       "      <td>...</td>\n",
       "      <td>0</td>\n",
       "      <td>0</td>\n",
       "      <td>0</td>\n",
       "      <td>0</td>\n",
       "      <td>1</td>\n",
       "      <td>0</td>\n",
       "      <td>0</td>\n",
       "      <td>0</td>\n",
       "      <td>0</td>\n",
       "      <td>0</td>\n",
       "    </tr>\n",
       "    <tr>\n",
       "      <th>8667</th>\n",
       "      <td>12146.0</td>\n",
       "      <td>2.000000</td>\n",
       "      <td>41.0</td>\n",
       "      <td>0</td>\n",
       "      <td>0.0</td>\n",
       "      <td>1.688586</td>\n",
       "      <td>0.0</td>\n",
       "      <td>0</td>\n",
       "      <td>2017.0</td>\n",
       "      <td>0</td>\n",
       "      <td>...</td>\n",
       "      <td>0</td>\n",
       "      <td>0</td>\n",
       "      <td>0</td>\n",
       "      <td>0</td>\n",
       "      <td>0</td>\n",
       "      <td>0</td>\n",
       "      <td>0</td>\n",
       "      <td>0</td>\n",
       "      <td>0</td>\n",
       "      <td>0</td>\n",
       "    </tr>\n",
       "    <tr>\n",
       "      <th>2332</th>\n",
       "      <td>1500.0</td>\n",
       "      <td>1.815129</td>\n",
       "      <td>8.0</td>\n",
       "      <td>0</td>\n",
       "      <td>0.0</td>\n",
       "      <td>1.310044</td>\n",
       "      <td>3.0</td>\n",
       "      <td>0</td>\n",
       "      <td>2017.0</td>\n",
       "      <td>0</td>\n",
       "      <td>...</td>\n",
       "      <td>0</td>\n",
       "      <td>0</td>\n",
       "      <td>0</td>\n",
       "      <td>0</td>\n",
       "      <td>0</td>\n",
       "      <td>0</td>\n",
       "      <td>0</td>\n",
       "      <td>0</td>\n",
       "      <td>0</td>\n",
       "      <td>0</td>\n",
       "    </tr>\n",
       "    <tr>\n",
       "      <th>15135</th>\n",
       "      <td>1238.0</td>\n",
       "      <td>1.815129</td>\n",
       "      <td>0.0</td>\n",
       "      <td>1</td>\n",
       "      <td>4.0</td>\n",
       "      <td>1.928349</td>\n",
       "      <td>6.0</td>\n",
       "      <td>1</td>\n",
       "      <td>2017.0</td>\n",
       "      <td>1</td>\n",
       "      <td>...</td>\n",
       "      <td>1</td>\n",
       "      <td>0</td>\n",
       "      <td>0</td>\n",
       "      <td>0</td>\n",
       "      <td>0</td>\n",
       "      <td>0</td>\n",
       "      <td>0</td>\n",
       "      <td>0</td>\n",
       "      <td>0</td>\n",
       "      <td>0</td>\n",
       "    </tr>\n",
       "    <tr>\n",
       "      <th>20341</th>\n",
       "      <td>3487.0</td>\n",
       "      <td>1.000000</td>\n",
       "      <td>4.0</td>\n",
       "      <td>1</td>\n",
       "      <td>5.0</td>\n",
       "      <td>1.920154</td>\n",
       "      <td>6.0</td>\n",
       "      <td>1</td>\n",
       "      <td>2017.0</td>\n",
       "      <td>1</td>\n",
       "      <td>...</td>\n",
       "      <td>0</td>\n",
       "      <td>0</td>\n",
       "      <td>0</td>\n",
       "      <td>1</td>\n",
       "      <td>0</td>\n",
       "      <td>0</td>\n",
       "      <td>0</td>\n",
       "      <td>0</td>\n",
       "      <td>0</td>\n",
       "      <td>0</td>\n",
       "    </tr>\n",
       "    <tr>\n",
       "      <th>46660</th>\n",
       "      <td>1093.0</td>\n",
       "      <td>1.815129</td>\n",
       "      <td>10.0</td>\n",
       "      <td>1</td>\n",
       "      <td>2.5</td>\n",
       "      <td>2.301053</td>\n",
       "      <td>1.0</td>\n",
       "      <td>0</td>\n",
       "      <td>2017.0</td>\n",
       "      <td>0</td>\n",
       "      <td>...</td>\n",
       "      <td>0</td>\n",
       "      <td>0</td>\n",
       "      <td>0</td>\n",
       "      <td>0</td>\n",
       "      <td>0</td>\n",
       "      <td>0</td>\n",
       "      <td>0</td>\n",
       "      <td>0</td>\n",
       "      <td>0</td>\n",
       "      <td>0</td>\n",
       "    </tr>\n",
       "    <tr>\n",
       "      <th>42028</th>\n",
       "      <td>581.0</td>\n",
       "      <td>2.000000</td>\n",
       "      <td>704.0</td>\n",
       "      <td>1</td>\n",
       "      <td>4.0</td>\n",
       "      <td>0.171134</td>\n",
       "      <td>5.0</td>\n",
       "      <td>0</td>\n",
       "      <td>2017.0</td>\n",
       "      <td>0</td>\n",
       "      <td>...</td>\n",
       "      <td>0</td>\n",
       "      <td>0</td>\n",
       "      <td>0</td>\n",
       "      <td>0</td>\n",
       "      <td>0</td>\n",
       "      <td>0</td>\n",
       "      <td>0</td>\n",
       "      <td>0</td>\n",
       "      <td>0</td>\n",
       "      <td>0</td>\n",
       "    </tr>\n",
       "    <tr>\n",
       "      <th>20283</th>\n",
       "      <td>2668.0</td>\n",
       "      <td>2.000000</td>\n",
       "      <td>126.0</td>\n",
       "      <td>1</td>\n",
       "      <td>3.5</td>\n",
       "      <td>0.699712</td>\n",
       "      <td>6.0</td>\n",
       "      <td>0</td>\n",
       "      <td>2017.0</td>\n",
       "      <td>0</td>\n",
       "      <td>...</td>\n",
       "      <td>0</td>\n",
       "      <td>0</td>\n",
       "      <td>0</td>\n",
       "      <td>0</td>\n",
       "      <td>0</td>\n",
       "      <td>0</td>\n",
       "      <td>0</td>\n",
       "      <td>0</td>\n",
       "      <td>0</td>\n",
       "      <td>0</td>\n",
       "    </tr>\n",
       "  </tbody>\n",
       "</table>\n",
       "<p>10 rows × 42 columns</p>\n",
       "</div>"
      ],
      "text/plain": [
       "       Ranking  Price Range  Number of Reviews  sample  Rating  rank_for_city  \\\n",
       "10469   7424.0     1.815129               44.0       1     2.5       2.186745   \n",
       "5811     798.0     2.000000              486.0       0     0.0       0.308227   \n",
       "1979    1540.0     2.000000              373.0       0     0.0       0.594824   \n",
       "8667   12146.0     2.000000               41.0       0     0.0       1.688586   \n",
       "2332    1500.0     1.815129                8.0       0     0.0       1.310044   \n",
       "15135   1238.0     1.815129                0.0       1     4.0       1.928349   \n",
       "20341   3487.0     1.000000                4.0       1     5.0       1.920154   \n",
       "46660   1093.0     1.815129               10.0       1     2.5       2.301053   \n",
       "42028    581.0     2.000000              704.0       1     4.0       0.171134   \n",
       "20283   2668.0     2.000000              126.0       1     3.5       0.699712   \n",
       "\n",
       "        wd  WDNAN    year  YNAN  ...  City_Oporto  City_Oslo  City_Paris  \\\n",
       "10469  6.0      0  2014.0     0  ...            0          0           0   \n",
       "5811   2.0      0  2017.0     0  ...            0          0           0   \n",
       "1979   3.0      0  2017.0     0  ...            0          0           0   \n",
       "8667   0.0      0  2017.0     0  ...            0          0           0   \n",
       "2332   3.0      0  2017.0     0  ...            0          0           0   \n",
       "15135  6.0      1  2017.0     1  ...            1          0           0   \n",
       "20341  6.0      1  2017.0     1  ...            0          0           0   \n",
       "46660  1.0      0  2017.0     0  ...            0          0           0   \n",
       "42028  5.0      0  2017.0     0  ...            0          0           0   \n",
       "20283  6.0      0  2017.0     0  ...            0          0           0   \n",
       "\n",
       "       City_Prague  City_Rome  City_Stockholm  City_Vienna  City_Warsaw  \\\n",
       "10469            0          0               0            0            0   \n",
       "5811             0          1               0            0            0   \n",
       "1979             0          1               0            0            0   \n",
       "8667             0          0               0            0            0   \n",
       "2332             0          0               0            0            0   \n",
       "15135            0          0               0            0            0   \n",
       "20341            1          0               0            0            0   \n",
       "46660            0          0               0            0            0   \n",
       "42028            0          0               0            0            0   \n",
       "20283            0          0               0            0            0   \n",
       "\n",
       "       City_Zurich  City_nan  \n",
       "10469            0         0  \n",
       "5811             0         0  \n",
       "1979             0         0  \n",
       "8667             0         0  \n",
       "2332             0         0  \n",
       "15135            0         0  \n",
       "20341            0         0  \n",
       "46660            0         0  \n",
       "42028            0         0  \n",
       "20283            0         0  \n",
       "\n",
       "[10 rows x 42 columns]"
      ]
     },
     "execution_count": 40,
     "metadata": {},
     "output_type": "execute_result"
    }
   ],
   "source": [
    "df_preproc = preproc_data(data)\n",
    "df_preproc.sample(10)"
   ]
  },
  {
   "cell_type": "code",
   "execution_count": 41,
   "metadata": {
    "execution": {
     "iopub.execute_input": "2021-08-11T18:10:10.654934Z",
     "iopub.status.busy": "2021-08-11T18:10:10.654377Z",
     "iopub.status.idle": "2021-08-11T18:10:10.675751Z",
     "shell.execute_reply": "2021-08-11T18:10:10.674611Z",
     "shell.execute_reply.started": "2021-08-11T18:10:10.654761Z"
    }
   },
   "outputs": [
    {
     "name": "stdout",
     "output_type": "stream",
     "text": [
      "<class 'pandas.core.frame.DataFrame'>\n",
      "RangeIndex: 50000 entries, 0 to 49999\n",
      "Data columns (total 42 columns):\n",
      "Ranking              50000 non-null float64\n",
      "Price Range          50000 non-null float64\n",
      "Number of Reviews    50000 non-null float64\n",
      "sample               50000 non-null int64\n",
      "Rating               50000 non-null float64\n",
      "rank_for_city        50000 non-null float64\n",
      "wd                   50000 non-null float64\n",
      "WDNAN                50000 non-null uint8\n",
      "year                 50000 non-null float64\n",
      "YNAN                 50000 non-null uint8\n",
      "City_Amsterdam       50000 non-null uint8\n",
      "City_Athens          50000 non-null uint8\n",
      "City_Barcelona       50000 non-null uint8\n",
      "City_Berlin          50000 non-null uint8\n",
      "City_Bratislava      50000 non-null uint8\n",
      "City_Brussels        50000 non-null uint8\n",
      "City_Budapest        50000 non-null uint8\n",
      "City_Copenhagen      50000 non-null uint8\n",
      "City_Dublin          50000 non-null uint8\n",
      "City_Edinburgh       50000 non-null uint8\n",
      "City_Geneva          50000 non-null uint8\n",
      "City_Hamburg         50000 non-null uint8\n",
      "City_Helsinki        50000 non-null uint8\n",
      "City_Krakow          50000 non-null uint8\n",
      "City_Lisbon          50000 non-null uint8\n",
      "City_Ljubljana       50000 non-null uint8\n",
      "City_London          50000 non-null uint8\n",
      "City_Luxembourg      50000 non-null uint8\n",
      "City_Lyon            50000 non-null uint8\n",
      "City_Madrid          50000 non-null uint8\n",
      "City_Milan           50000 non-null uint8\n",
      "City_Munich          50000 non-null uint8\n",
      "City_Oporto          50000 non-null uint8\n",
      "City_Oslo            50000 non-null uint8\n",
      "City_Paris           50000 non-null uint8\n",
      "City_Prague          50000 non-null uint8\n",
      "City_Rome            50000 non-null uint8\n",
      "City_Stockholm       50000 non-null uint8\n",
      "City_Vienna          50000 non-null uint8\n",
      "City_Warsaw          50000 non-null uint8\n",
      "City_Zurich          50000 non-null uint8\n",
      "City_nan             50000 non-null uint8\n",
      "dtypes: float64(7), int64(1), uint8(34)\n",
      "memory usage: 4.7 MB\n"
     ]
    }
   ],
   "source": [
    "df_preproc.info()"
   ]
  },
  {
   "cell_type": "code",
   "execution_count": 42,
   "metadata": {
    "execution": {
     "iopub.execute_input": "2021-08-11T18:10:10.678174Z",
     "iopub.status.busy": "2021-08-11T18:10:10.677567Z",
     "iopub.status.idle": "2021-08-11T18:10:10.711632Z",
     "shell.execute_reply": "2021-08-11T18:10:10.710904Z",
     "shell.execute_reply.started": "2021-08-11T18:10:10.677909Z"
    }
   },
   "outputs": [],
   "source": [
    "# Теперь выделим тестовую часть\n",
    "train_data = df_preproc.query('sample == 1').drop(['sample'], axis=1)\n",
    "test_data = df_preproc.query('sample == 0').drop(['sample'], axis=1)\n",
    "\n",
    "y = train_data.Rating.values            # наш таргет\n",
    "X = train_data.drop(['Rating'], axis=1)"
   ]
  },
  {
   "cell_type": "markdown",
   "metadata": {},
   "source": [
    "**Перед тем как отправлять наши данные на обучение, разделим данные на еще один тест и трейн, для валидации. \n",
    "Это поможет нам проверить, как хорошо наша модель работает, до отправки submissiona на kaggle.**"
   ]
  },
  {
   "cell_type": "code",
   "execution_count": 43,
   "metadata": {
    "execution": {
     "iopub.execute_input": "2021-08-11T18:10:10.718308Z",
     "iopub.status.busy": "2021-08-11T18:10:10.717977Z",
     "iopub.status.idle": "2021-08-11T18:10:10.735755Z",
     "shell.execute_reply": "2021-08-11T18:10:10.73476Z",
     "shell.execute_reply.started": "2021-08-11T18:10:10.718249Z"
    }
   },
   "outputs": [],
   "source": [
    "# Воспользуемся специальной функцией train_test_split для разбивки тестовых данных\n",
    "# выделим 20% данных на валидацию (параметр test_size)\n",
    "X_train, X_test, y_train, y_test = train_test_split(X, y, test_size=0.2, random_state=RANDOM_SEED)"
   ]
  },
  {
   "cell_type": "code",
   "execution_count": 44,
   "metadata": {
    "execution": {
     "iopub.execute_input": "2021-08-11T18:10:10.737844Z",
     "iopub.status.busy": "2021-08-11T18:10:10.737505Z",
     "iopub.status.idle": "2021-08-11T18:10:10.744976Z",
     "shell.execute_reply": "2021-08-11T18:10:10.744069Z",
     "shell.execute_reply.started": "2021-08-11T18:10:10.737787Z"
    }
   },
   "outputs": [
    {
     "data": {
      "text/plain": [
       "((10000, 41), (40000, 41), (40000, 40), (32000, 40), (8000, 40))"
      ]
     },
     "execution_count": 44,
     "metadata": {},
     "output_type": "execute_result"
    }
   ],
   "source": [
    "# проверяем\n",
    "test_data.shape, train_data.shape, X.shape, X_train.shape, X_test.shape"
   ]
  },
  {
   "cell_type": "markdown",
   "metadata": {},
   "source": [
    "# Model \n",
    "Сам ML"
   ]
  },
  {
   "cell_type": "code",
   "execution_count": 45,
   "metadata": {
    "execution": {
     "iopub.execute_input": "2021-08-11T18:10:10.746714Z",
     "iopub.status.busy": "2021-08-11T18:10:10.746454Z",
     "iopub.status.idle": "2021-08-11T18:10:10.758547Z",
     "shell.execute_reply": "2021-08-11T18:10:10.757157Z",
     "shell.execute_reply.started": "2021-08-11T18:10:10.746672Z"
    }
   },
   "outputs": [],
   "source": [
    "# Импортируем необходимые библиотеки:\n",
    "from sklearn.ensemble import RandomForestRegressor # инструмент для создания и обучения модели\n",
    "from sklearn import metrics # инструменты для оценки точности модели"
   ]
  },
  {
   "cell_type": "code",
   "execution_count": 46,
   "metadata": {
    "execution": {
     "iopub.execute_input": "2021-08-11T18:10:10.760372Z",
     "iopub.status.busy": "2021-08-11T18:10:10.760093Z",
     "iopub.status.idle": "2021-08-11T18:10:10.771446Z",
     "shell.execute_reply": "2021-08-11T18:10:10.770612Z",
     "shell.execute_reply.started": "2021-08-11T18:10:10.760324Z"
    }
   },
   "outputs": [],
   "source": [
    "# Создаём модель (НАСТРОЙКИ НЕ ТРОГАЕМ)\n",
    "model = RandomForestRegressor(n_estimators=100, verbose=1, n_jobs=-1, random_state=RANDOM_SEED)"
   ]
  },
  {
   "cell_type": "code",
   "execution_count": 47,
   "metadata": {
    "execution": {
     "iopub.execute_input": "2021-08-11T18:10:10.772803Z",
     "iopub.status.busy": "2021-08-11T18:10:10.772578Z",
     "iopub.status.idle": "2021-08-11T18:10:18.37097Z",
     "shell.execute_reply": "2021-08-11T18:10:18.370183Z",
     "shell.execute_reply.started": "2021-08-11T18:10:10.772771Z"
    }
   },
   "outputs": [
    {
     "name": "stderr",
     "output_type": "stream",
     "text": [
      "[Parallel(n_jobs=-1)]: Using backend ThreadingBackend with 4 concurrent workers.\n",
      "[Parallel(n_jobs=-1)]: Done  42 tasks      | elapsed:    3.0s\n",
      "[Parallel(n_jobs=-1)]: Done 100 out of 100 | elapsed:    6.8s finished\n",
      "[Parallel(n_jobs=4)]: Using backend ThreadingBackend with 4 concurrent workers.\n",
      "[Parallel(n_jobs=4)]: Done  42 tasks      | elapsed:    0.1s\n",
      "[Parallel(n_jobs=4)]: Done 100 out of 100 | elapsed:    0.1s finished\n"
     ]
    }
   ],
   "source": [
    "# Обучаем модель на тестовом наборе данных\n",
    "model.fit(X_train, y_train)\n",
    "\n",
    "# Используем обученную модель для предсказания рейтинга ресторанов в тестовой выборке.\n",
    "# Предсказанные значения записываем в переменную y_pred\n",
    "y_pred = model.predict(X_test)"
   ]
  },
  {
   "cell_type": "code",
   "execution_count": 48,
   "metadata": {
    "execution": {
     "iopub.execute_input": "2021-08-11T18:10:18.372986Z",
     "iopub.status.busy": "2021-08-11T18:10:18.372648Z",
     "iopub.status.idle": "2021-08-11T18:10:18.379616Z",
     "shell.execute_reply": "2021-08-11T18:10:18.378697Z",
     "shell.execute_reply.started": "2021-08-11T18:10:18.37293Z"
    }
   },
   "outputs": [
    {
     "name": "stdout",
     "output_type": "stream",
     "text": [
      "MAE: 0.206599375\n"
     ]
    }
   ],
   "source": [
    "# Сравниваем предсказанные значения (y_pred) с реальными (y_test), и смотрим насколько они в среднем отличаются\n",
    "# Метрика называется Mean Absolute Error (MAE) и показывает среднее отклонение предсказанных значений от фактических.\n",
    "print('MAE:', metrics.mean_absolute_error(y_test, y_pred))"
   ]
  },
  {
   "cell_type": "code",
   "execution_count": 49,
   "metadata": {
    "execution": {
     "iopub.execute_input": "2021-08-11T18:10:18.381955Z",
     "iopub.status.busy": "2021-08-11T18:10:18.381574Z",
     "iopub.status.idle": "2021-08-11T18:10:18.853913Z",
     "shell.execute_reply": "2021-08-11T18:10:18.852912Z",
     "shell.execute_reply.started": "2021-08-11T18:10:18.381883Z"
    }
   },
   "outputs": [
    {
     "data": {
      "text/plain": [
       "<matplotlib.axes._subplots.AxesSubplot at 0x7ff87b63d320>"
      ]
     },
     "execution_count": 49,
     "metadata": {},
     "output_type": "execute_result"
    },
    {
     "data": {
      "image/png": "[encoded data removed]",
      "text/plain": [
       "<Figure size 720x720 with 1 Axes>"
      ]
     },
     "metadata": {
      "needs_background": "light"
     },
     "output_type": "display_data"
    }
   ],
   "source": [
    "# в RandomForestRegressor есть возможность вывести самые важные признаки для модели\n",
    "plt.rcParams['figure.figsize'] = (10,10)\n",
    "feat_importances = pd.Series(model.feature_importances_, index=X.columns)\n",
    "feat_importances.nlargest(15).plot(kind='barh')"
   ]
  },
  {
   "cell_type": "markdown",
   "metadata": {},
   "source": [
    "# Submission\n",
    "готовим Submission на кагл"
   ]
  },
  {
   "cell_type": "code",
   "execution_count": 50,
   "metadata": {
    "execution": {
     "iopub.execute_input": "2021-08-11T18:10:18.856111Z",
     "iopub.status.busy": "2021-08-11T18:10:18.855547Z",
     "iopub.status.idle": "2021-08-11T18:10:18.898302Z",
     "shell.execute_reply": "2021-08-11T18:10:18.897407Z",
     "shell.execute_reply.started": "2021-08-11T18:10:18.856046Z"
    }
   },
   "outputs": [
    {
     "data": {
      "text/html": [
       "<div>\n",
       "<style scoped>\n",
       "    .dataframe tbody tr th:only-of-type {\n",
       "        vertical-align: middle;\n",
       "    }\n",
       "\n",
       "    .dataframe tbody tr th {\n",
       "        vertical-align: top;\n",
       "    }\n",
       "\n",
       "    .dataframe thead th {\n",
       "        text-align: right;\n",
       "    }\n",
       "</style>\n",
       "<table border=\"1\" class=\"dataframe\">\n",
       "  <thead>\n",
       "    <tr style=\"text-align: right;\">\n",
       "      <th></th>\n",
       "      <th>Ranking</th>\n",
       "      <th>Price Range</th>\n",
       "      <th>Number of Reviews</th>\n",
       "      <th>Rating</th>\n",
       "      <th>rank_for_city</th>\n",
       "      <th>wd</th>\n",
       "      <th>WDNAN</th>\n",
       "      <th>year</th>\n",
       "      <th>YNAN</th>\n",
       "      <th>City_Amsterdam</th>\n",
       "      <th>...</th>\n",
       "      <th>City_Oporto</th>\n",
       "      <th>City_Oslo</th>\n",
       "      <th>City_Paris</th>\n",
       "      <th>City_Prague</th>\n",
       "      <th>City_Rome</th>\n",
       "      <th>City_Stockholm</th>\n",
       "      <th>City_Vienna</th>\n",
       "      <th>City_Warsaw</th>\n",
       "      <th>City_Zurich</th>\n",
       "      <th>City_nan</th>\n",
       "    </tr>\n",
       "  </thead>\n",
       "  <tbody>\n",
       "    <tr>\n",
       "      <th>6260</th>\n",
       "      <td>2622.0</td>\n",
       "      <td>2.000000</td>\n",
       "      <td>27.0</td>\n",
       "      <td>0.0</td>\n",
       "      <td>0.772312</td>\n",
       "      <td>4.0</td>\n",
       "      <td>0</td>\n",
       "      <td>2015.0</td>\n",
       "      <td>0</td>\n",
       "      <td>0</td>\n",
       "      <td>...</td>\n",
       "      <td>0</td>\n",
       "      <td>0</td>\n",
       "      <td>0</td>\n",
       "      <td>0</td>\n",
       "      <td>0</td>\n",
       "      <td>0</td>\n",
       "      <td>0</td>\n",
       "      <td>0</td>\n",
       "      <td>0</td>\n",
       "      <td>0</td>\n",
       "    </tr>\n",
       "    <tr>\n",
       "      <th>7168</th>\n",
       "      <td>3408.0</td>\n",
       "      <td>1.815129</td>\n",
       "      <td>11.0</td>\n",
       "      <td>0.0</td>\n",
       "      <td>1.003829</td>\n",
       "      <td>6.0</td>\n",
       "      <td>1</td>\n",
       "      <td>2017.0</td>\n",
       "      <td>1</td>\n",
       "      <td>0</td>\n",
       "      <td>...</td>\n",
       "      <td>0</td>\n",
       "      <td>0</td>\n",
       "      <td>0</td>\n",
       "      <td>0</td>\n",
       "      <td>0</td>\n",
       "      <td>0</td>\n",
       "      <td>0</td>\n",
       "      <td>0</td>\n",
       "      <td>0</td>\n",
       "      <td>0</td>\n",
       "    </tr>\n",
       "    <tr>\n",
       "      <th>9083</th>\n",
       "      <td>3960.0</td>\n",
       "      <td>2.000000</td>\n",
       "      <td>32.0</td>\n",
       "      <td>0.0</td>\n",
       "      <td>0.550535</td>\n",
       "      <td>1.0</td>\n",
       "      <td>0</td>\n",
       "      <td>2017.0</td>\n",
       "      <td>0</td>\n",
       "      <td>0</td>\n",
       "      <td>...</td>\n",
       "      <td>0</td>\n",
       "      <td>0</td>\n",
       "      <td>0</td>\n",
       "      <td>0</td>\n",
       "      <td>0</td>\n",
       "      <td>0</td>\n",
       "      <td>0</td>\n",
       "      <td>0</td>\n",
       "      <td>0</td>\n",
       "      <td>0</td>\n",
       "    </tr>\n",
       "    <tr>\n",
       "      <th>6207</th>\n",
       "      <td>5558.0</td>\n",
       "      <td>1.000000</td>\n",
       "      <td>4.0</td>\n",
       "      <td>0.0</td>\n",
       "      <td>2.054713</td>\n",
       "      <td>6.0</td>\n",
       "      <td>0</td>\n",
       "      <td>2017.0</td>\n",
       "      <td>0</td>\n",
       "      <td>0</td>\n",
       "      <td>...</td>\n",
       "      <td>0</td>\n",
       "      <td>0</td>\n",
       "      <td>0</td>\n",
       "      <td>0</td>\n",
       "      <td>0</td>\n",
       "      <td>0</td>\n",
       "      <td>0</td>\n",
       "      <td>0</td>\n",
       "      <td>0</td>\n",
       "      <td>0</td>\n",
       "    </tr>\n",
       "    <tr>\n",
       "      <th>5556</th>\n",
       "      <td>1109.0</td>\n",
       "      <td>3.000000</td>\n",
       "      <td>248.0</td>\n",
       "      <td>0.0</td>\n",
       "      <td>0.326657</td>\n",
       "      <td>2.0</td>\n",
       "      <td>0</td>\n",
       "      <td>2017.0</td>\n",
       "      <td>0</td>\n",
       "      <td>0</td>\n",
       "      <td>...</td>\n",
       "      <td>0</td>\n",
       "      <td>0</td>\n",
       "      <td>0</td>\n",
       "      <td>0</td>\n",
       "      <td>0</td>\n",
       "      <td>0</td>\n",
       "      <td>0</td>\n",
       "      <td>0</td>\n",
       "      <td>0</td>\n",
       "      <td>0</td>\n",
       "    </tr>\n",
       "    <tr>\n",
       "      <th>6317</th>\n",
       "      <td>1083.0</td>\n",
       "      <td>2.000000</td>\n",
       "      <td>64.0</td>\n",
       "      <td>0.0</td>\n",
       "      <td>0.657559</td>\n",
       "      <td>5.0</td>\n",
       "      <td>0</td>\n",
       "      <td>2018.0</td>\n",
       "      <td>0</td>\n",
       "      <td>0</td>\n",
       "      <td>...</td>\n",
       "      <td>0</td>\n",
       "      <td>0</td>\n",
       "      <td>0</td>\n",
       "      <td>0</td>\n",
       "      <td>0</td>\n",
       "      <td>0</td>\n",
       "      <td>0</td>\n",
       "      <td>0</td>\n",
       "      <td>0</td>\n",
       "      <td>0</td>\n",
       "    </tr>\n",
       "    <tr>\n",
       "      <th>1972</th>\n",
       "      <td>6187.0</td>\n",
       "      <td>1.815129</td>\n",
       "      <td>10.0</td>\n",
       "      <td>0.0</td>\n",
       "      <td>1.622607</td>\n",
       "      <td>5.0</td>\n",
       "      <td>0</td>\n",
       "      <td>2014.0</td>\n",
       "      <td>0</td>\n",
       "      <td>0</td>\n",
       "      <td>...</td>\n",
       "      <td>0</td>\n",
       "      <td>0</td>\n",
       "      <td>0</td>\n",
       "      <td>0</td>\n",
       "      <td>0</td>\n",
       "      <td>0</td>\n",
       "      <td>0</td>\n",
       "      <td>0</td>\n",
       "      <td>0</td>\n",
       "      <td>0</td>\n",
       "    </tr>\n",
       "    <tr>\n",
       "      <th>3274</th>\n",
       "      <td>946.0</td>\n",
       "      <td>1.815129</td>\n",
       "      <td>30.0</td>\n",
       "      <td>0.0</td>\n",
       "      <td>0.840142</td>\n",
       "      <td>4.0</td>\n",
       "      <td>0</td>\n",
       "      <td>2017.0</td>\n",
       "      <td>0</td>\n",
       "      <td>0</td>\n",
       "      <td>...</td>\n",
       "      <td>0</td>\n",
       "      <td>0</td>\n",
       "      <td>0</td>\n",
       "      <td>0</td>\n",
       "      <td>0</td>\n",
       "      <td>0</td>\n",
       "      <td>0</td>\n",
       "      <td>0</td>\n",
       "      <td>0</td>\n",
       "      <td>0</td>\n",
       "    </tr>\n",
       "    <tr>\n",
       "      <th>6015</th>\n",
       "      <td>2702.0</td>\n",
       "      <td>1.000000</td>\n",
       "      <td>18.0</td>\n",
       "      <td>0.0</td>\n",
       "      <td>0.442371</td>\n",
       "      <td>2.0</td>\n",
       "      <td>0</td>\n",
       "      <td>2017.0</td>\n",
       "      <td>0</td>\n",
       "      <td>0</td>\n",
       "      <td>...</td>\n",
       "      <td>0</td>\n",
       "      <td>0</td>\n",
       "      <td>1</td>\n",
       "      <td>0</td>\n",
       "      <td>0</td>\n",
       "      <td>0</td>\n",
       "      <td>0</td>\n",
       "      <td>0</td>\n",
       "      <td>0</td>\n",
       "      <td>0</td>\n",
       "    </tr>\n",
       "    <tr>\n",
       "      <th>4619</th>\n",
       "      <td>5948.0</td>\n",
       "      <td>2.000000</td>\n",
       "      <td>47.0</td>\n",
       "      <td>0.0</td>\n",
       "      <td>2.297412</td>\n",
       "      <td>2.0</td>\n",
       "      <td>0</td>\n",
       "      <td>2017.0</td>\n",
       "      <td>0</td>\n",
       "      <td>0</td>\n",
       "      <td>...</td>\n",
       "      <td>0</td>\n",
       "      <td>0</td>\n",
       "      <td>0</td>\n",
       "      <td>0</td>\n",
       "      <td>1</td>\n",
       "      <td>0</td>\n",
       "      <td>0</td>\n",
       "      <td>0</td>\n",
       "      <td>0</td>\n",
       "      <td>0</td>\n",
       "    </tr>\n",
       "  </tbody>\n",
       "</table>\n",
       "<p>10 rows × 41 columns</p>\n",
       "</div>"
      ],
      "text/plain": [
       "      Ranking  Price Range  Number of Reviews  Rating  rank_for_city   wd  \\\n",
       "6260   2622.0     2.000000               27.0     0.0       0.772312  4.0   \n",
       "7168   3408.0     1.815129               11.0     0.0       1.003829  6.0   \n",
       "9083   3960.0     2.000000               32.0     0.0       0.550535  1.0   \n",
       "6207   5558.0     1.000000                4.0     0.0       2.054713  6.0   \n",
       "5556   1109.0     3.000000              248.0     0.0       0.326657  2.0   \n",
       "6317   1083.0     2.000000               64.0     0.0       0.657559  5.0   \n",
       "1972   6187.0     1.815129               10.0     0.0       1.622607  5.0   \n",
       "3274    946.0     1.815129               30.0     0.0       0.840142  4.0   \n",
       "6015   2702.0     1.000000               18.0     0.0       0.442371  2.0   \n",
       "4619   5948.0     2.000000               47.0     0.0       2.297412  2.0   \n",
       "\n",
       "      WDNAN    year  YNAN  City_Amsterdam  ...  City_Oporto  City_Oslo  \\\n",
       "6260      0  2015.0     0               0  ...            0          0   \n",
       "7168      1  2017.0     1               0  ...            0          0   \n",
       "9083      0  2017.0     0               0  ...            0          0   \n",
       "6207      0  2017.0     0               0  ...            0          0   \n",
       "5556      0  2017.0     0               0  ...            0          0   \n",
       "6317      0  2018.0     0               0  ...            0          0   \n",
       "1972      0  2014.0     0               0  ...            0          0   \n",
       "3274      0  2017.0     0               0  ...            0          0   \n",
       "6015      0  2017.0     0               0  ...            0          0   \n",
       "4619      0  2017.0     0               0  ...            0          0   \n",
       "\n",
       "      City_Paris  City_Prague  City_Rome  City_Stockholm  City_Vienna  \\\n",
       "6260           0            0          0               0            0   \n",
       "7168           0            0          0               0            0   \n",
       "9083           0            0          0               0            0   \n",
       "6207           0            0          0               0            0   \n",
       "5556           0            0          0               0            0   \n",
       "6317           0            0          0               0            0   \n",
       "1972           0            0          0               0            0   \n",
       "3274           0            0          0               0            0   \n",
       "6015           1            0          0               0            0   \n",
       "4619           0            0          1               0            0   \n",
       "\n",
       "      City_Warsaw  City_Zurich  City_nan  \n",
       "6260            0            0         0  \n",
       "7168            0            0         0  \n",
       "9083            0            0         0  \n",
       "6207            0            0         0  \n",
       "5556            0            0         0  \n",
       "6317            0            0         0  \n",
       "1972            0            0         0  \n",
       "3274            0            0         0  \n",
       "6015            0            0         0  \n",
       "4619            0            0         0  \n",
       "\n",
       "[10 rows x 41 columns]"
      ]
     },
     "execution_count": 50,
     "metadata": {},
     "output_type": "execute_result"
    }
   ],
   "source": [
    "test_data.sample(10)"
   ]
  },
  {
   "cell_type": "code",
   "execution_count": 51,
   "metadata": {
    "execution": {
     "iopub.execute_input": "2021-08-11T18:10:18.90066Z",
     "iopub.status.busy": "2021-08-11T18:10:18.900287Z",
     "iopub.status.idle": "2021-08-11T18:10:18.907208Z",
     "shell.execute_reply": "2021-08-11T18:10:18.906448Z",
     "shell.execute_reply.started": "2021-08-11T18:10:18.900593Z"
    }
   },
   "outputs": [],
   "source": [
    "test_data = test_data.drop(['Rating'], axis=1)"
   ]
  },
  {
   "cell_type": "code",
   "execution_count": 52,
   "metadata": {
    "execution": {
     "iopub.execute_input": "2021-08-11T18:10:18.908599Z",
     "iopub.status.busy": "2021-08-11T18:10:18.908231Z",
     "iopub.status.idle": "2021-08-11T18:10:18.929707Z",
     "shell.execute_reply": "2021-08-11T18:10:18.929095Z",
     "shell.execute_reply.started": "2021-08-11T18:10:18.908561Z"
    }
   },
   "outputs": [
    {
     "data": {
      "text/html": [
       "<div>\n",
       "<style scoped>\n",
       "    .dataframe tbody tr th:only-of-type {\n",
       "        vertical-align: middle;\n",
       "    }\n",
       "\n",
       "    .dataframe tbody tr th {\n",
       "        vertical-align: top;\n",
       "    }\n",
       "\n",
       "    .dataframe thead th {\n",
       "        text-align: right;\n",
       "    }\n",
       "</style>\n",
       "<table border=\"1\" class=\"dataframe\">\n",
       "  <thead>\n",
       "    <tr style=\"text-align: right;\">\n",
       "      <th></th>\n",
       "      <th>Restaurant_id</th>\n",
       "      <th>Rating</th>\n",
       "    </tr>\n",
       "  </thead>\n",
       "  <tbody>\n",
       "    <tr>\n",
       "      <th>0</th>\n",
       "      <td>id_0</td>\n",
       "      <td>2.0</td>\n",
       "    </tr>\n",
       "    <tr>\n",
       "      <th>1</th>\n",
       "      <td>id_1</td>\n",
       "      <td>2.5</td>\n",
       "    </tr>\n",
       "    <tr>\n",
       "      <th>2</th>\n",
       "      <td>id_2</td>\n",
       "      <td>4.0</td>\n",
       "    </tr>\n",
       "    <tr>\n",
       "      <th>3</th>\n",
       "      <td>id_3</td>\n",
       "      <td>1.0</td>\n",
       "    </tr>\n",
       "    <tr>\n",
       "      <th>4</th>\n",
       "      <td>id_4</td>\n",
       "      <td>4.0</td>\n",
       "    </tr>\n",
       "    <tr>\n",
       "      <th>...</th>\n",
       "      <td>...</td>\n",
       "      <td>...</td>\n",
       "    </tr>\n",
       "    <tr>\n",
       "      <th>9995</th>\n",
       "      <td>id_9995</td>\n",
       "      <td>3.0</td>\n",
       "    </tr>\n",
       "    <tr>\n",
       "      <th>9996</th>\n",
       "      <td>id_9996</td>\n",
       "      <td>1.5</td>\n",
       "    </tr>\n",
       "    <tr>\n",
       "      <th>9997</th>\n",
       "      <td>id_9997</td>\n",
       "      <td>4.5</td>\n",
       "    </tr>\n",
       "    <tr>\n",
       "      <th>9998</th>\n",
       "      <td>id_9998</td>\n",
       "      <td>1.0</td>\n",
       "    </tr>\n",
       "    <tr>\n",
       "      <th>9999</th>\n",
       "      <td>id_9999</td>\n",
       "      <td>2.5</td>\n",
       "    </tr>\n",
       "  </tbody>\n",
       "</table>\n",
       "<p>10000 rows × 2 columns</p>\n",
       "</div>"
      ],
      "text/plain": [
       "     Restaurant_id  Rating\n",
       "0             id_0     2.0\n",
       "1             id_1     2.5\n",
       "2             id_2     4.0\n",
       "3             id_3     1.0\n",
       "4             id_4     4.0\n",
       "...            ...     ...\n",
       "9995       id_9995     3.0\n",
       "9996       id_9996     1.5\n",
       "9997       id_9997     4.5\n",
       "9998       id_9998     1.0\n",
       "9999       id_9999     2.5\n",
       "\n",
       "[10000 rows x 2 columns]"
      ]
     },
     "execution_count": 52,
     "metadata": {},
     "output_type": "execute_result"
    }
   ],
   "source": [
    "sample_submission"
   ]
  },
  {
   "cell_type": "code",
   "execution_count": 53,
   "metadata": {
    "execution": {
     "iopub.execute_input": "2021-08-11T18:10:18.931232Z",
     "iopub.status.busy": "2021-08-11T18:10:18.9308Z",
     "iopub.status.idle": "2021-08-11T18:10:19.049534Z",
     "shell.execute_reply": "2021-08-11T18:10:19.048347Z",
     "shell.execute_reply.started": "2021-08-11T18:10:18.93119Z"
    }
   },
   "outputs": [
    {
     "name": "stderr",
     "output_type": "stream",
     "text": [
      "[Parallel(n_jobs=4)]: Using backend ThreadingBackend with 4 concurrent workers.\n",
      "[Parallel(n_jobs=4)]: Done  42 tasks      | elapsed:    0.1s\n",
      "[Parallel(n_jobs=4)]: Done 100 out of 100 | elapsed:    0.1s finished\n"
     ]
    }
   ],
   "source": [
    "predict_submission = model.predict(test_data)"
   ]
  },
  {
   "cell_type": "code",
   "execution_count": 54,
   "metadata": {
    "execution": {
     "iopub.execute_input": "2021-08-11T18:10:19.051821Z",
     "iopub.status.busy": "2021-08-11T18:10:19.051447Z",
     "iopub.status.idle": "2021-08-11T18:10:19.059213Z",
     "shell.execute_reply": "2021-08-11T18:10:19.058123Z",
     "shell.execute_reply.started": "2021-08-11T18:10:19.051751Z"
    }
   },
   "outputs": [
    {
     "data": {
      "text/plain": [
       "array([3.11 , 4.24 , 4.575, ..., 3.06 , 4.505, 4.36 ])"
      ]
     },
     "execution_count": 54,
     "metadata": {},
     "output_type": "execute_result"
    }
   ],
   "source": [
    "predict_submission"
   ]
  },
  {
   "cell_type": "code",
   "execution_count": 55,
   "metadata": {
    "execution": {
     "iopub.execute_input": "2021-08-11T18:10:19.061143Z",
     "iopub.status.busy": "2021-08-11T18:10:19.060761Z",
     "iopub.status.idle": "2021-08-11T18:10:19.110721Z",
     "shell.execute_reply": "2021-08-11T18:10:19.10973Z",
     "shell.execute_reply.started": "2021-08-11T18:10:19.061077Z"
    }
   },
   "outputs": [
    {
     "data": {
      "text/html": [
       "<div>\n",
       "<style scoped>\n",
       "    .dataframe tbody tr th:only-of-type {\n",
       "        vertical-align: middle;\n",
       "    }\n",
       "\n",
       "    .dataframe tbody tr th {\n",
       "        vertical-align: top;\n",
       "    }\n",
       "\n",
       "    .dataframe thead th {\n",
       "        text-align: right;\n",
       "    }\n",
       "</style>\n",
       "<table border=\"1\" class=\"dataframe\">\n",
       "  <thead>\n",
       "    <tr style=\"text-align: right;\">\n",
       "      <th></th>\n",
       "      <th>Restaurant_id</th>\n",
       "      <th>Rating</th>\n",
       "    </tr>\n",
       "  </thead>\n",
       "  <tbody>\n",
       "    <tr>\n",
       "      <th>0</th>\n",
       "      <td>id_0</td>\n",
       "      <td>3.110</td>\n",
       "    </tr>\n",
       "    <tr>\n",
       "      <th>1</th>\n",
       "      <td>id_1</td>\n",
       "      <td>4.240</td>\n",
       "    </tr>\n",
       "    <tr>\n",
       "      <th>2</th>\n",
       "      <td>id_2</td>\n",
       "      <td>4.575</td>\n",
       "    </tr>\n",
       "    <tr>\n",
       "      <th>3</th>\n",
       "      <td>id_3</td>\n",
       "      <td>4.270</td>\n",
       "    </tr>\n",
       "    <tr>\n",
       "      <th>4</th>\n",
       "      <td>id_4</td>\n",
       "      <td>4.500</td>\n",
       "    </tr>\n",
       "    <tr>\n",
       "      <th>5</th>\n",
       "      <td>id_5</td>\n",
       "      <td>4.535</td>\n",
       "    </tr>\n",
       "    <tr>\n",
       "      <th>6</th>\n",
       "      <td>id_6</td>\n",
       "      <td>2.150</td>\n",
       "    </tr>\n",
       "    <tr>\n",
       "      <th>7</th>\n",
       "      <td>id_7</td>\n",
       "      <td>2.605</td>\n",
       "    </tr>\n",
       "    <tr>\n",
       "      <th>8</th>\n",
       "      <td>id_8</td>\n",
       "      <td>4.085</td>\n",
       "    </tr>\n",
       "    <tr>\n",
       "      <th>9</th>\n",
       "      <td>id_9</td>\n",
       "      <td>4.610</td>\n",
       "    </tr>\n",
       "  </tbody>\n",
       "</table>\n",
       "</div>"
      ],
      "text/plain": [
       "  Restaurant_id  Rating\n",
       "0          id_0   3.110\n",
       "1          id_1   4.240\n",
       "2          id_2   4.575\n",
       "3          id_3   4.270\n",
       "4          id_4   4.500\n",
       "5          id_5   4.535\n",
       "6          id_6   2.150\n",
       "7          id_7   2.605\n",
       "8          id_8   4.085\n",
       "9          id_9   4.610"
      ]
     },
     "execution_count": 55,
     "metadata": {},
     "output_type": "execute_result"
    }
   ],
   "source": [
    "sample_submission['Rating'] = predict_submission\n",
    "sample_submission.to_csv('submission.csv', index=False)\n",
    "sample_submission.head(10)"
   ]
  }
 ],
 "metadata": {
  "kernelspec": {
   "display_name": "Python 3",
   "language": "python",
   "name": "python3"
  },
  "language_info": {
   "codemirror_mode": {
    "name": "ipython",
    "version": 3
   },
   "file_extension": ".py",
   "mimetype": "text/x-python",
   "name": "python",
   "nbconvert_exporter": "python",
   "pygments_lexer": "ipython3",
   "version": "3.6.6"
  }
 },
 "nbformat": 4,
 "nbformat_minor": 4
}
